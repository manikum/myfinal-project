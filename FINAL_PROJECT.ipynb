{
  "nbformat": 4,
  "nbformat_minor": 0,
  "metadata": {
    "colab": {
      "name": "FINAL PROJECT",
      "provenance": [],
      "collapsed_sections": [],
      "include_colab_link": true
    },
    "kernelspec": {
      "name": "python3",
      "display_name": "Python 3"
    },
    "language_info": {
      "name": "python"
    }
  },
  "cells": [
    {
      "cell_type": "markdown",
      "metadata": {
        "id": "view-in-github",
        "colab_type": "text"
      },
      "source": [
        "<a href=\"https://colab.research.google.com/github/manikum/myfinal-project/blob/main/FINAL_PROJECT.ipynb\" target=\"_parent\"><img src=\"https://colab.research.google.com/assets/colab-badge.svg\" alt=\"Open In Colab\"/></a>"
      ]
    },
    {
      "cell_type": "markdown",
      "metadata": {
        "id": "Q5FcPAeS8vEy"
      },
      "source": [
        ""
      ]
    },
    {
      "cell_type": "markdown",
      "metadata": {
        "id": "IP5KFkEf6WBC"
      },
      "source": [
        "here in this final project we are taking a dataset named netflix and its recommendations. in this dataset we are performing  exploratory data analysis(EDA) on models, some predictions based on recommendations,answering some usefull question and makeing EDA on them spliting daat into 80-20%, building machine learnig models..... "
      ]
    },
    {
      "cell_type": "markdown",
      "metadata": {
        "id": "RLv6Bwgs9gwF"
      },
      "source": [
        "EXPLORATORY DATA ANALYSIS (**EDA**)"
      ]
    },
    {
      "cell_type": "markdown",
      "metadata": {
        "id": "n-BwsXDS9oxh"
      },
      "source": [
        "importing the libraries...."
      ]
    },
    {
      "cell_type": "code",
      "metadata": {
        "id": "Erep3VMS9m-5"
      },
      "source": [
        "import numpy as np\n",
        "import pandas as pd\n",
        "import matplotlib.pyplot as plt\n",
        "import seaborn as sns\n",
        "%matplotlib inline"
      ],
      "execution_count": null,
      "outputs": []
    },
    {
      "cell_type": "markdown",
      "metadata": {
        "id": "yBehLB0v_k6Q"
      },
      "source": [
        "loading the dataset"
      ]
    },
    {
      "cell_type": "code",
      "metadata": {
        "id": "vsdEncn-_oYa",
        "colab": {
          "base_uri": "https://localhost:8080/",
          "height": 904
        },
        "outputId": "aef88ee8-0eeb-43bd-83d3-6b50092c6a3b"
      },
      "source": [
        "netflix = pd.read_csv('netflix_titles.csv')\n",
        "netflix"
      ],
      "execution_count": null,
      "outputs": [
        {
          "output_type": "execute_result",
          "data": {
            "text/html": [
              "<div>\n",
              "<style scoped>\n",
              "    .dataframe tbody tr th:only-of-type {\n",
              "        vertical-align: middle;\n",
              "    }\n",
              "\n",
              "    .dataframe tbody tr th {\n",
              "        vertical-align: top;\n",
              "    }\n",
              "\n",
              "    .dataframe thead th {\n",
              "        text-align: right;\n",
              "    }\n",
              "</style>\n",
              "<table border=\"1\" class=\"dataframe\">\n",
              "  <thead>\n",
              "    <tr style=\"text-align: right;\">\n",
              "      <th></th>\n",
              "      <th>show_id</th>\n",
              "      <th>type</th>\n",
              "      <th>title</th>\n",
              "      <th>director</th>\n",
              "      <th>cast</th>\n",
              "      <th>country</th>\n",
              "      <th>date_added</th>\n",
              "      <th>release_year</th>\n",
              "      <th>rating</th>\n",
              "      <th>duration</th>\n",
              "      <th>listed_in</th>\n",
              "      <th>description</th>\n",
              "    </tr>\n",
              "  </thead>\n",
              "  <tbody>\n",
              "    <tr>\n",
              "      <th>0</th>\n",
              "      <td>s1</td>\n",
              "      <td>Movie</td>\n",
              "      <td>Dick Johnson Is Dead</td>\n",
              "      <td>Kirsten Johnson</td>\n",
              "      <td>NaN</td>\n",
              "      <td>United States</td>\n",
              "      <td>September 25, 2021</td>\n",
              "      <td>2020</td>\n",
              "      <td>PG-13</td>\n",
              "      <td>90 min</td>\n",
              "      <td>Documentaries</td>\n",
              "      <td>As her father nears the end of his life, filmm...</td>\n",
              "    </tr>\n",
              "    <tr>\n",
              "      <th>1</th>\n",
              "      <td>s2</td>\n",
              "      <td>TV Show</td>\n",
              "      <td>Blood &amp; Water</td>\n",
              "      <td>NaN</td>\n",
              "      <td>Ama Qamata, Khosi Ngema, Gail Mabalane, Thaban...</td>\n",
              "      <td>South Africa</td>\n",
              "      <td>September 24, 2021</td>\n",
              "      <td>2021</td>\n",
              "      <td>TV-MA</td>\n",
              "      <td>2 Seasons</td>\n",
              "      <td>International TV Shows, TV Dramas, TV Mysteries</td>\n",
              "      <td>After crossing paths at a party, a Cape Town t...</td>\n",
              "    </tr>\n",
              "    <tr>\n",
              "      <th>2</th>\n",
              "      <td>s3</td>\n",
              "      <td>TV Show</td>\n",
              "      <td>Ganglands</td>\n",
              "      <td>Julien Leclercq</td>\n",
              "      <td>Sami Bouajila, Tracy Gotoas, Samuel Jouy, Nabi...</td>\n",
              "      <td>NaN</td>\n",
              "      <td>September 24, 2021</td>\n",
              "      <td>2021</td>\n",
              "      <td>TV-MA</td>\n",
              "      <td>1 Season</td>\n",
              "      <td>Crime TV Shows, International TV Shows, TV Act...</td>\n",
              "      <td>To protect his family from a powerful drug lor...</td>\n",
              "    </tr>\n",
              "    <tr>\n",
              "      <th>3</th>\n",
              "      <td>s4</td>\n",
              "      <td>TV Show</td>\n",
              "      <td>Jailbirds New Orleans</td>\n",
              "      <td>NaN</td>\n",
              "      <td>NaN</td>\n",
              "      <td>NaN</td>\n",
              "      <td>September 24, 2021</td>\n",
              "      <td>2021</td>\n",
              "      <td>TV-MA</td>\n",
              "      <td>1 Season</td>\n",
              "      <td>Docuseries, Reality TV</td>\n",
              "      <td>Feuds, flirtations and toilet talk go down amo...</td>\n",
              "    </tr>\n",
              "    <tr>\n",
              "      <th>4</th>\n",
              "      <td>s5</td>\n",
              "      <td>TV Show</td>\n",
              "      <td>Kota Factory</td>\n",
              "      <td>NaN</td>\n",
              "      <td>Mayur More, Jitendra Kumar, Ranjan Raj, Alam K...</td>\n",
              "      <td>India</td>\n",
              "      <td>September 24, 2021</td>\n",
              "      <td>2021</td>\n",
              "      <td>TV-MA</td>\n",
              "      <td>2 Seasons</td>\n",
              "      <td>International TV Shows, Romantic TV Shows, TV ...</td>\n",
              "      <td>In a city of coaching centers known to train I...</td>\n",
              "    </tr>\n",
              "    <tr>\n",
              "      <th>...</th>\n",
              "      <td>...</td>\n",
              "      <td>...</td>\n",
              "      <td>...</td>\n",
              "      <td>...</td>\n",
              "      <td>...</td>\n",
              "      <td>...</td>\n",
              "      <td>...</td>\n",
              "      <td>...</td>\n",
              "      <td>...</td>\n",
              "      <td>...</td>\n",
              "      <td>...</td>\n",
              "      <td>...</td>\n",
              "    </tr>\n",
              "    <tr>\n",
              "      <th>8149</th>\n",
              "      <td>s8150</td>\n",
              "      <td>Movie</td>\n",
              "      <td>Tamanchey</td>\n",
              "      <td>Navneet Behal</td>\n",
              "      <td>Nikhil Dwivedi, Richa Chadha, Damandeep Singh ...</td>\n",
              "      <td>India</td>\n",
              "      <td>October 15, 2017</td>\n",
              "      <td>2014</td>\n",
              "      <td>TV-MA</td>\n",
              "      <td>111 min</td>\n",
              "      <td>Action &amp; Adventure, International Movies, Roma...</td>\n",
              "      <td>A man and a woman on the run from the law are ...</td>\n",
              "    </tr>\n",
              "    <tr>\n",
              "      <th>8150</th>\n",
              "      <td>s8151</td>\n",
              "      <td>Movie</td>\n",
              "      <td>Tarif de nuit</td>\n",
              "      <td>Julien Seri</td>\n",
              "      <td>Jonathan Howard, Jonathan Demurger, Fanny Vale...</td>\n",
              "      <td>France</td>\n",
              "      <td>March 1, 2018</td>\n",
              "      <td>2015</td>\n",
              "      <td>TV-MA</td>\n",
              "      <td>81 min</td>\n",
              "      <td>International Movies, Thrillers</td>\n",
              "      <td>A night out in Paris quickly unravels when two...</td>\n",
              "    </tr>\n",
              "    <tr>\n",
              "      <th>8151</th>\n",
              "      <td>s8152</td>\n",
              "      <td>Movie</td>\n",
              "      <td>Tarzan</td>\n",
              "      <td>Chris Buck, Kevin Lima</td>\n",
              "      <td>Tony Goldwyn, Minnie Driver, Glenn Close, Bria...</td>\n",
              "      <td>United States</td>\n",
              "      <td>June 23, 2018</td>\n",
              "      <td>1999</td>\n",
              "      <td>G</td>\n",
              "      <td>89 min</td>\n",
              "      <td>Children &amp; Family Movies</td>\n",
              "      <td>After being shipwrecked off the African coast,...</td>\n",
              "    </tr>\n",
              "    <tr>\n",
              "      <th>8152</th>\n",
              "      <td>s8153</td>\n",
              "      <td>Movie</td>\n",
              "      <td>Tarzan 2</td>\n",
              "      <td>Brian Smith</td>\n",
              "      <td>Harrison Chad, George Carlin, Brad Garrett, Ro...</td>\n",
              "      <td>United States</td>\n",
              "      <td>June 23, 2017</td>\n",
              "      <td>2005</td>\n",
              "      <td>G</td>\n",
              "      <td>72 min</td>\n",
              "      <td>Children &amp; Family Movies</td>\n",
              "      <td>How did the King of the Jungle ascend to the t...</td>\n",
              "    </tr>\n",
              "    <tr>\n",
              "      <th>8153</th>\n",
              "      <td>s8154</td>\n",
              "      <td>Movie</td>\n",
              "      <td>Tattah</td>\n",
              "      <td>Sameh Abdulaziz</td>\n",
              "      <td>Mohamed Saad, Dolly Shahin, Marwa, Hayatem, Sa...</td>\n",
              "      <td>Egypt</td>\n",
              "      <td>May 9, 2019</td>\n",
              "      <td>2013</td>\n",
              "      <td>TV-14</td>\n",
              "      <td>NaN</td>\n",
              "      <td>NaN</td>\n",
              "      <td>NaN</td>\n",
              "    </tr>\n",
              "  </tbody>\n",
              "</table>\n",
              "<p>8154 rows × 12 columns</p>\n",
              "</div>"
            ],
            "text/plain": [
              "     show_id  ...                                        description\n",
              "0         s1  ...  As her father nears the end of his life, filmm...\n",
              "1         s2  ...  After crossing paths at a party, a Cape Town t...\n",
              "2         s3  ...  To protect his family from a powerful drug lor...\n",
              "3         s4  ...  Feuds, flirtations and toilet talk go down amo...\n",
              "4         s5  ...  In a city of coaching centers known to train I...\n",
              "...      ...  ...                                                ...\n",
              "8149   s8150  ...  A man and a woman on the run from the law are ...\n",
              "8150   s8151  ...  A night out in Paris quickly unravels when two...\n",
              "8151   s8152  ...  After being shipwrecked off the African coast,...\n",
              "8152   s8153  ...  How did the King of the Jungle ascend to the t...\n",
              "8153   s8154  ...                                                NaN\n",
              "\n",
              "[8154 rows x 12 columns]"
            ]
          },
          "metadata": {},
          "execution_count": 5
        }
      ]
    },
    {
      "cell_type": "code",
      "metadata": {
        "id": "7U8rY3F9BT3h"
      },
      "source": [
        ""
      ],
      "execution_count": null,
      "outputs": []
    },
    {
      "cell_type": "markdown",
      "metadata": {
        "id": "j3t8OFIrANou"
      },
      "source": [
        "shape of the dataset "
      ]
    },
    {
      "cell_type": "code",
      "metadata": {
        "id": "obZa2tZdAUmA",
        "colab": {
          "base_uri": "https://localhost:8080/"
        },
        "outputId": "44e3d2de-3bae-4f76-d42e-caefbf48745c"
      },
      "source": [
        "netflix.shape"
      ],
      "execution_count": null,
      "outputs": [
        {
          "output_type": "execute_result",
          "data": {
            "text/plain": [
              "(8154, 12)"
            ]
          },
          "metadata": {},
          "execution_count": 6
        }
      ]
    },
    {
      "cell_type": "markdown",
      "metadata": {
        "id": "qarwhlZRAbiI"
      },
      "source": [
        "let us count the dataset"
      ]
    },
    {
      "cell_type": "code",
      "metadata": {
        "id": "oi2R8m1lAnrz",
        "colab": {
          "base_uri": "https://localhost:8080/"
        },
        "outputId": "a88d9c48-7b3d-4f5f-9538-2227ad1b49ed"
      },
      "source": [
        "netflix.count()"
      ],
      "execution_count": null,
      "outputs": [
        {
          "output_type": "execute_result",
          "data": {
            "text/plain": [
              "show_id         8154\n",
              "type            8154\n",
              "title           8154\n",
              "director        5636\n",
              "cast            7407\n",
              "country         7351\n",
              "date_added      8145\n",
              "release_year    8154\n",
              "rating          8150\n",
              "duration        8150\n",
              "listed_in       8153\n",
              "description     8153\n",
              "dtype: int64"
            ]
          },
          "metadata": {},
          "execution_count": 7
        }
      ]
    },
    {
      "cell_type": "markdown",
      "metadata": {
        "id": "Sd2noM4wA_Qi"
      },
      "source": [
        "**SHOWS VS MOVIES**"
      ]
    },
    {
      "cell_type": "code",
      "metadata": {
        "id": "FM8sd6XTBLZI",
        "colab": {
          "base_uri": "https://localhost:8080/",
          "height": 696
        },
        "outputId": "0ef00b23-3888-4183-8a27-aec30d6c8e94"
      },
      "source": [
        "netflix_shows = netflix[netflix['type']=='TV Shows']\n",
        "netflix_movies = netflix[netflix['type']=='Movie']\n",
        "#Time for visulization\n",
        "sns.set(style='darkgrid')\n",
        "ax = sns.countplot(x='type', data=netflix, palette='Set2')\n",
        "\n",
        "plt.figure(figsize=(7, 7))\n",
        "netflix['type'].value_counts().plot(kind='pie',autopct='%1.0f%%')"
      ],
      "execution_count": null,
      "outputs": [
        {
          "output_type": "execute_result",
          "data": {
            "text/plain": [
              "<matplotlib.axes._subplots.AxesSubplot at 0x7fc071445090>"
            ]
          },
          "metadata": {},
          "execution_count": 8
        },
        {
          "output_type": "display_data",
          "data": {
            "image/png": "[encoded data removed]",
            "text/plain": [
              "<Figure size 432x288 with 1 Axes>"
            ]
          },
          "metadata": {}
        },
        {
          "output_type": "display_data",
          "data": {
            "image/png": "[encoded data removed]",
            "text/plain": [
              "<Figure size 504x504 with 1 Axes>"
            ]
          },
          "metadata": {}
        }
      ]
    },
    {
      "cell_type": "markdown",
      "metadata": {
        "id": "PpokOUgJBT4I"
      },
      "source": [
        "**MOVIE RATING ANALYSIS**"
      ]
    },
    {
      "cell_type": "code",
      "metadata": {
        "id": "ug3mrXoLBhaF",
        "colab": {
          "base_uri": "https://localhost:8080/",
          "height": 611
        },
        "outputId": "6efa2f83-48c9-45ac-dea1-e4977d44f023"
      },
      "source": [
        "plt.figure(figsize=(12,10))\n",
        "sns.set(style=\"darkgrid\")\n",
        "ax = sns.countplot(x=\"rating\", data=netflix_movies, palette=\"Set2\", order=netflix_movies['rating'].value_counts().index[0:15])"
      ],
      "execution_count": null,
      "outputs": [
        {
          "output_type": "display_data",
          "data": {
            "image/png": "[encoded data removed]",
            "text/plain": [
              "<Figure size 864x720 with 1 Axes>"
            ]
          },
          "metadata": {}
        }
      ]
    },
    {
      "cell_type": "markdown",
      "metadata": {
        "id": "3TX68nnnBm2f"
      },
      "source": [
        "The largest count of movies are made with the 'TV-MA' rating.\"TV-MA\" is a rating assigned by the TV Parental Guidelines to a television program that was designed for mature audiences only.\n",
        "\n",
        "Second largest is the 'TV-14' stands for content that may be inappropriate for children younger than 14 years of age."
      ]
    },
    {
      "cell_type": "markdown",
      "metadata": {
        "id": "oJkzWw1gCoy9"
      },
      "source": [
        "TOP 10 COUNTRIES WITH MOVIES AND SHOWS IN NETFLIX"
      ]
    },
    {
      "cell_type": "code",
      "metadata": {
        "id": "tnSruaSGBzNU",
        "colab": {
          "base_uri": "https://localhost:8080/",
          "height": 444
        },
        "outputId": "9ca13307-1136-471a-811c-59f0ede18a93"
      },
      "source": [
        "values = netflix['country'].value_counts()[:10].tolist()\n",
        "labels = netflix['country'].value_counts()[:10].index.tolist()\n",
        "plt.figure(figsize=(7, 7))\n",
        "plt.pie(values,labels=labels,autopct='%1.0f%%')\n",
        "plt.title('Top 10 countries with movies and tv shows')"
      ],
      "execution_count": null,
      "outputs": [
        {
          "output_type": "execute_result",
          "data": {
            "text/plain": [
              "Text(0.5, 1.0, 'Top 10 countries with movies and tv shows')"
            ]
          },
          "metadata": {},
          "execution_count": 10
        },
        {
          "output_type": "display_data",
          "data": {
            "image/png": "[encoded data removed]",
            "text/plain": [
              "<Figure size 504x504 with 1 Axes>"
            ]
          },
          "metadata": {}
        }
      ]
    },
    {
      "cell_type": "markdown",
      "metadata": {
        "id": "G7xInHTWEa8p"
      },
      "source": [
        "CONTENT ADDED BY YEARS \n"
      ]
    },
    {
      "cell_type": "code",
      "metadata": {
        "id": "cHYHNp44EeJu",
        "colab": {
          "base_uri": "https://localhost:8080/"
        },
        "outputId": "60adfd3e-bdff-481a-b092-4d8877f2d6f7"
      },
      "source": [
        "netflix['rating'].value_counts()"
      ],
      "execution_count": null,
      "outputs": [
        {
          "output_type": "execute_result",
          "data": {
            "text/plain": [
              "TV-MA       3051\n",
              "TV-14       2025\n",
              "TV-PG        792\n",
              "R            687\n",
              "PG-13        407\n",
              "TV-Y7        315\n",
              "TV-Y         301\n",
              "PG           249\n",
              "TV-G         208\n",
              "NR            66\n",
              "G             35\n",
              "TV-Y7-FV       6\n",
              "NC-17          3\n",
              "UR             2\n",
              "84 min         1\n",
              "74 min         1\n",
              "66 min         1\n",
              "Name: rating, dtype: int64"
            ]
          },
          "metadata": {},
          "execution_count": 11
        }
      ]
    },
    {
      "cell_type": "code",
      "metadata": {
        "id": "yJ_voL8_Tgb7"
      },
      "source": [
        "netflix['date_added'] = netflix['date_added'].fillna(netflix['date_added'].mode()[0])"
      ],
      "execution_count": null,
      "outputs": []
    },
    {
      "cell_type": "code",
      "metadata": {
        "id": "J4od14UDTupA",
        "colab": {
          "base_uri": "https://localhost:8080/",
          "height": 203
        },
        "outputId": "1252b80b-9695-4382-e182-546ff60b716c"
      },
      "source": [
        "date = pd.DataFrame(netflix['date_added'])\n",
        "added = date['date_added'].str.split(', ',expand = True)\n",
        "date['MD'] = added[0]\n",
        "date['Year'] = added[1]\n",
        "date.head()"
      ],
      "execution_count": null,
      "outputs": [
        {
          "output_type": "execute_result",
          "data": {
            "text/html": [
              "<div>\n",
              "<style scoped>\n",
              "    .dataframe tbody tr th:only-of-type {\n",
              "        vertical-align: middle;\n",
              "    }\n",
              "\n",
              "    .dataframe tbody tr th {\n",
              "        vertical-align: top;\n",
              "    }\n",
              "\n",
              "    .dataframe thead th {\n",
              "        text-align: right;\n",
              "    }\n",
              "</style>\n",
              "<table border=\"1\" class=\"dataframe\">\n",
              "  <thead>\n",
              "    <tr style=\"text-align: right;\">\n",
              "      <th></th>\n",
              "      <th>date_added</th>\n",
              "      <th>MD</th>\n",
              "      <th>Year</th>\n",
              "    </tr>\n",
              "  </thead>\n",
              "  <tbody>\n",
              "    <tr>\n",
              "      <th>0</th>\n",
              "      <td>September 25, 2021</td>\n",
              "      <td>September 25</td>\n",
              "      <td>2021</td>\n",
              "    </tr>\n",
              "    <tr>\n",
              "      <th>1</th>\n",
              "      <td>September 24, 2021</td>\n",
              "      <td>September 24</td>\n",
              "      <td>2021</td>\n",
              "    </tr>\n",
              "    <tr>\n",
              "      <th>2</th>\n",
              "      <td>September 24, 2021</td>\n",
              "      <td>September 24</td>\n",
              "      <td>2021</td>\n",
              "    </tr>\n",
              "    <tr>\n",
              "      <th>3</th>\n",
              "      <td>September 24, 2021</td>\n",
              "      <td>September 24</td>\n",
              "      <td>2021</td>\n",
              "    </tr>\n",
              "    <tr>\n",
              "      <th>4</th>\n",
              "      <td>September 24, 2021</td>\n",
              "      <td>September 24</td>\n",
              "      <td>2021</td>\n",
              "    </tr>\n",
              "  </tbody>\n",
              "</table>\n",
              "</div>"
            ],
            "text/plain": [
              "           date_added            MD  Year\n",
              "0  September 25, 2021  September 25  2021\n",
              "1  September 24, 2021  September 24  2021\n",
              "2  September 24, 2021  September 24  2021\n",
              "3  September 24, 2021  September 24  2021\n",
              "4  September 24, 2021  September 24  2021"
            ]
          },
          "metadata": {},
          "execution_count": 13
        }
      ]
    },
    {
      "cell_type": "markdown",
      "metadata": {
        "id": "49Vg3n6VUUe-"
      },
      "source": [
        "year wise analysis"
      ]
    },
    {
      "cell_type": "code",
      "metadata": {
        "id": "IxTQ1cz0UWuO",
        "colab": {
          "base_uri": "https://localhost:8080/",
          "height": 611
        },
        "outputId": "125ad97b-cdf2-465b-d8a6-b8349a6ab9d2"
      },
      "source": [
        "plt.figure(figsize=(12,10))\n",
        "sns.set(style='darkgrid')\n",
        "ax = sns.countplot(y='release_year', data=netflix_movies, palette='Set2', order=netflix_movies['release_year'].value_counts().index[0:15])"
      ],
      "execution_count": null,
      "outputs": [
        {
          "output_type": "display_data",
          "data": {
            "image/png": "[encoded data removed]",
            "text/plain": [
              "<Figure size 864x720 with 1 Axes>"
            ]
          },
          "metadata": {}
        }
      ]
    },
    {
      "cell_type": "markdown",
      "metadata": {
        "id": "VvlT0C3GUikP"
      },
      "source": [
        "top 10 content creating countries\n",
        "\n",
        "> Indented block\n",
        "\n"
      ]
    },
    {
      "cell_type": "code",
      "metadata": {
        "id": "70QW3IL-UyHj",
        "colab": {
          "base_uri": "https://localhost:8080/"
        },
        "outputId": "e000ad35-fa69-488d-c0bc-deb9164b120d"
      },
      "source": [
        "countries={}\n",
        "netflix_movies['country']=netflix_movies['country'].fillna('Unknown')\n",
        "cou=list(netflix_movies['country'])\n",
        "for i in cou:\n",
        "    #print(i)\n",
        "    i=list(i.split(','))\n",
        "    if len(i)==1:\n",
        "        if i in list(countries.keys()):\n",
        "            countries[i]+=1\n",
        "        else:\n",
        "            countries[i[0]]=1\n",
        "    else:\n",
        "        for j in i:\n",
        "            if j in list(countries.keys()):\n",
        "                countries[j]+=1\n",
        "            else:\n",
        "                countries[j]=1\n",
        "countries_fin={}\n",
        "for country,no in countries.items():\n",
        "    country=country.replace(' ','')\n",
        "    if country in list(countries_fin.keys()):\n",
        "        countries_fin[country]+=no\n",
        "    else:\n",
        "        countries_fin[country]=no\n",
        "        \n",
        "countries_fin={k: v for k, v in sorted(countries_fin.items(), key=lambda item: item[1], reverse= True)}"
      ],
      "execution_count": null,
      "outputs": [
        {
          "output_type": "stream",
          "name": "stderr",
          "text": [
            "/usr/local/lib/python3.7/dist-packages/ipykernel_launcher.py:2: SettingWithCopyWarning: \n",
            "A value is trying to be set on a copy of a slice from a DataFrame.\n",
            "Try using .loc[row_indexer,col_indexer] = value instead\n",
            "\n",
            "See the caveats in the documentation: https://pandas.pydata.org/pandas-docs/stable/user_guide/indexing.html#returning-a-view-versus-a-copy\n",
            "  \n"
          ]
        }
      ]
    },
    {
      "cell_type": "code",
      "metadata": {
        "id": "wY2t42glVBRQ",
        "colab": {
          "base_uri": "https://localhost:8080/",
          "height": 729
        },
        "outputId": "b353e855-72eb-4891-c906-520432e635ad"
      },
      "source": [
        "plt.figure(figsize=(8,8))\n",
        "ax = sns.barplot(x=list(countries_fin.keys())[0:10],y=list(countries_fin.values())[0:10])\n",
        "ax.set_xticklabels(list(countries_fin.keys())[0:10],rotation = 90)"
      ],
      "execution_count": null,
      "outputs": [
        {
          "output_type": "execute_result",
          "data": {
            "text/plain": [
              "[Text(0, 0, 'UnitedStates'),\n",
              " Text(0, 0, 'France'),\n",
              " Text(0, 0, 'UnitedKingdom'),\n",
              " Text(0, 0, 'Canada'),\n",
              " Text(0, 0, 'Germany'),\n",
              " Text(0, 0, 'Belgium'),\n",
              " Text(0, 0, 'China'),\n",
              " Text(0, 0, 'Spain'),\n",
              " Text(0, 0, 'Australia'),\n",
              " Text(0, 0, 'Japan')]"
            ]
          },
          "metadata": {},
          "execution_count": 16
        },
        {
          "output_type": "display_data",
          "data": {
            "image/png": "[encoded data removed]",
            "text/plain": [
              "<Figure size 576x576 with 1 Axes>"
            ]
          },
          "metadata": {}
        }
      ]
    },
    {
      "cell_type": "markdown",
      "metadata": {
        "id": "Z7ncSIEyVh6c"
      },
      "source": [
        "DATA CLEANING"
      ]
    },
    {
      "cell_type": "code",
      "metadata": {
        "id": "SKdgFeAcWXJe",
        "colab": {
          "base_uri": "https://localhost:8080/"
        },
        "outputId": "da13c119-b40e-40c4-da51-7054aec85af9"
      },
      "source": [
        "netflix.isnull().sum()"
      ],
      "execution_count": null,
      "outputs": [
        {
          "output_type": "execute_result",
          "data": {
            "text/plain": [
              "show_id            0\n",
              "type               0\n",
              "title              0\n",
              "director        2518\n",
              "cast             747\n",
              "country          803\n",
              "date_added         0\n",
              "release_year       0\n",
              "rating             4\n",
              "duration           4\n",
              "listed_in          1\n",
              "description        1\n",
              "dtype: int64"
            ]
          },
          "metadata": {},
          "execution_count": 17
        }
      ]
    },
    {
      "cell_type": "markdown",
      "metadata": {
        "id": "_3qWGUDEXMU-"
      },
      "source": [
        "if the null value is not in NAN format the python does not consider it as none values. so the below code is used to handle that type of situations..."
      ]
    },
    {
      "cell_type": "code",
      "metadata": {
        "id": "1fc4XOs9XfqG",
        "colab": {
          "base_uri": "https://localhost:8080/"
        },
        "outputId": "88e76a29-d85d-4c4f-967f-8c3824243c45"
      },
      "source": [
        "missing_values = ['Na','n/a','NA']\n",
        "netflix = pd.read_csv('/content/netflix_titles.csv',na_values=missing_values)\n",
        "netflix.isnull().sum()"
      ],
      "execution_count": null,
      "outputs": [
        {
          "output_type": "execute_result",
          "data": {
            "text/plain": [
              "show_id            0\n",
              "type               0\n",
              "title              0\n",
              "director        2518\n",
              "cast             747\n",
              "country          803\n",
              "date_added         9\n",
              "release_year       0\n",
              "rating             4\n",
              "duration           4\n",
              "listed_in          1\n",
              "description        1\n",
              "dtype: int64"
            ]
          },
          "metadata": {},
          "execution_count": 18
        }
      ]
    },
    {
      "cell_type": "markdown",
      "metadata": {
        "id": "tOlcLMLPZ0I0"
      },
      "source": [
        "showing null values in a heat map"
      ]
    },
    {
      "cell_type": "code",
      "metadata": {
        "id": "qhbJfUeOZ34r",
        "colab": {
          "base_uri": "https://localhost:8080/",
          "height": 350
        },
        "outputId": "74ea5358-4b89-4b11-94d6-d062c00e1b3a"
      },
      "source": [
        "sns.heatmap(netflix.isnull(), yticklabels=False)"
      ],
      "execution_count": null,
      "outputs": [
        {
          "output_type": "execute_result",
          "data": {
            "text/plain": [
              "<matplotlib.axes._subplots.AxesSubplot at 0x7fc05de91290>"
            ]
          },
          "metadata": {},
          "execution_count": 19
        },
        {
          "output_type": "display_data",
          "data": {
            "image/png": "[encoded data removed]",
            "text/plain": [
              "<Figure size 432x288 with 2 Axes>"
            ]
          },
          "metadata": {}
        }
      ]
    },
    {
      "cell_type": "markdown",
      "metadata": {
        "id": "-0P5yQj3bJGn"
      },
      "source": [
        "removing the missing values"
      ]
    },
    {
      "cell_type": "code",
      "metadata": {
        "id": "LmULnxFdcPjt",
        "colab": {
          "base_uri": "https://localhost:8080/"
        },
        "outputId": "e0d1839f-2fa7-4e89-917d-a86b796889f7"
      },
      "source": [
        "netflix.dropna"
      ],
      "execution_count": null,
      "outputs": [
        {
          "output_type": "execute_result",
          "data": {
            "text/plain": [
              "<bound method DataFrame.dropna of      show_id  ...                                        description\n",
              "0         s1  ...  As her father nears the end of his life, filmm...\n",
              "1         s2  ...  After crossing paths at a party, a Cape Town t...\n",
              "2         s3  ...  To protect his family from a powerful drug lor...\n",
              "3         s4  ...  Feuds, flirtations and toilet talk go down amo...\n",
              "4         s5  ...  In a city of coaching centers known to train I...\n",
              "...      ...  ...                                                ...\n",
              "8149   s8150  ...  A man and a woman on the run from the law are ...\n",
              "8150   s8151  ...  A night out in Paris quickly unravels when two...\n",
              "8151   s8152  ...  After being shipwrecked off the African coast,...\n",
              "8152   s8153  ...  How did the King of the Jungle ascend to the t...\n",
              "8153   s8154  ...                                                NaN\n",
              "\n",
              "[8154 rows x 12 columns]>"
            ]
          },
          "metadata": {},
          "execution_count": 20
        }
      ]
    },
    {
      "cell_type": "markdown",
      "metadata": {
        "id": "p-ezy2Rocbdt"
      },
      "source": [
        "fill the missing values with 0"
      ]
    },
    {
      "cell_type": "code",
      "metadata": {
        "id": "141qfEthcbBY",
        "colab": {
          "base_uri": "https://localhost:8080/",
          "height": 904
        },
        "outputId": "e0da928f-7d44-46b3-cc60-ff55500d2329"
      },
      "source": [
        "netflix.fillna(0)"
      ],
      "execution_count": null,
      "outputs": [
        {
          "output_type": "execute_result",
          "data": {
            "text/html": [
              "<div>\n",
              "<style scoped>\n",
              "    .dataframe tbody tr th:only-of-type {\n",
              "        vertical-align: middle;\n",
              "    }\n",
              "\n",
              "    .dataframe tbody tr th {\n",
              "        vertical-align: top;\n",
              "    }\n",
              "\n",
              "    .dataframe thead th {\n",
              "        text-align: right;\n",
              "    }\n",
              "</style>\n",
              "<table border=\"1\" class=\"dataframe\">\n",
              "  <thead>\n",
              "    <tr style=\"text-align: right;\">\n",
              "      <th></th>\n",
              "      <th>show_id</th>\n",
              "      <th>type</th>\n",
              "      <th>title</th>\n",
              "      <th>director</th>\n",
              "      <th>cast</th>\n",
              "      <th>country</th>\n",
              "      <th>date_added</th>\n",
              "      <th>release_year</th>\n",
              "      <th>rating</th>\n",
              "      <th>duration</th>\n",
              "      <th>listed_in</th>\n",
              "      <th>description</th>\n",
              "    </tr>\n",
              "  </thead>\n",
              "  <tbody>\n",
              "    <tr>\n",
              "      <th>0</th>\n",
              "      <td>s1</td>\n",
              "      <td>Movie</td>\n",
              "      <td>Dick Johnson Is Dead</td>\n",
              "      <td>Kirsten Johnson</td>\n",
              "      <td>0</td>\n",
              "      <td>United States</td>\n",
              "      <td>September 25, 2021</td>\n",
              "      <td>2020</td>\n",
              "      <td>PG-13</td>\n",
              "      <td>90 min</td>\n",
              "      <td>Documentaries</td>\n",
              "      <td>As her father nears the end of his life, filmm...</td>\n",
              "    </tr>\n",
              "    <tr>\n",
              "      <th>1</th>\n",
              "      <td>s2</td>\n",
              "      <td>TV Show</td>\n",
              "      <td>Blood &amp; Water</td>\n",
              "      <td>0</td>\n",
              "      <td>Ama Qamata, Khosi Ngema, Gail Mabalane, Thaban...</td>\n",
              "      <td>South Africa</td>\n",
              "      <td>September 24, 2021</td>\n",
              "      <td>2021</td>\n",
              "      <td>TV-MA</td>\n",
              "      <td>2 Seasons</td>\n",
              "      <td>International TV Shows, TV Dramas, TV Mysteries</td>\n",
              "      <td>After crossing paths at a party, a Cape Town t...</td>\n",
              "    </tr>\n",
              "    <tr>\n",
              "      <th>2</th>\n",
              "      <td>s3</td>\n",
              "      <td>TV Show</td>\n",
              "      <td>Ganglands</td>\n",
              "      <td>Julien Leclercq</td>\n",
              "      <td>Sami Bouajila, Tracy Gotoas, Samuel Jouy, Nabi...</td>\n",
              "      <td>0</td>\n",
              "      <td>September 24, 2021</td>\n",
              "      <td>2021</td>\n",
              "      <td>TV-MA</td>\n",
              "      <td>1 Season</td>\n",
              "      <td>Crime TV Shows, International TV Shows, TV Act...</td>\n",
              "      <td>To protect his family from a powerful drug lor...</td>\n",
              "    </tr>\n",
              "    <tr>\n",
              "      <th>3</th>\n",
              "      <td>s4</td>\n",
              "      <td>TV Show</td>\n",
              "      <td>Jailbirds New Orleans</td>\n",
              "      <td>0</td>\n",
              "      <td>0</td>\n",
              "      <td>0</td>\n",
              "      <td>September 24, 2021</td>\n",
              "      <td>2021</td>\n",
              "      <td>TV-MA</td>\n",
              "      <td>1 Season</td>\n",
              "      <td>Docuseries, Reality TV</td>\n",
              "      <td>Feuds, flirtations and toilet talk go down amo...</td>\n",
              "    </tr>\n",
              "    <tr>\n",
              "      <th>4</th>\n",
              "      <td>s5</td>\n",
              "      <td>TV Show</td>\n",
              "      <td>Kota Factory</td>\n",
              "      <td>0</td>\n",
              "      <td>Mayur More, Jitendra Kumar, Ranjan Raj, Alam K...</td>\n",
              "      <td>India</td>\n",
              "      <td>September 24, 2021</td>\n",
              "      <td>2021</td>\n",
              "      <td>TV-MA</td>\n",
              "      <td>2 Seasons</td>\n",
              "      <td>International TV Shows, Romantic TV Shows, TV ...</td>\n",
              "      <td>In a city of coaching centers known to train I...</td>\n",
              "    </tr>\n",
              "    <tr>\n",
              "      <th>...</th>\n",
              "      <td>...</td>\n",
              "      <td>...</td>\n",
              "      <td>...</td>\n",
              "      <td>...</td>\n",
              "      <td>...</td>\n",
              "      <td>...</td>\n",
              "      <td>...</td>\n",
              "      <td>...</td>\n",
              "      <td>...</td>\n",
              "      <td>...</td>\n",
              "      <td>...</td>\n",
              "      <td>...</td>\n",
              "    </tr>\n",
              "    <tr>\n",
              "      <th>8149</th>\n",
              "      <td>s8150</td>\n",
              "      <td>Movie</td>\n",
              "      <td>Tamanchey</td>\n",
              "      <td>Navneet Behal</td>\n",
              "      <td>Nikhil Dwivedi, Richa Chadha, Damandeep Singh ...</td>\n",
              "      <td>India</td>\n",
              "      <td>October 15, 2017</td>\n",
              "      <td>2014</td>\n",
              "      <td>TV-MA</td>\n",
              "      <td>111 min</td>\n",
              "      <td>Action &amp; Adventure, International Movies, Roma...</td>\n",
              "      <td>A man and a woman on the run from the law are ...</td>\n",
              "    </tr>\n",
              "    <tr>\n",
              "      <th>8150</th>\n",
              "      <td>s8151</td>\n",
              "      <td>Movie</td>\n",
              "      <td>Tarif de nuit</td>\n",
              "      <td>Julien Seri</td>\n",
              "      <td>Jonathan Howard, Jonathan Demurger, Fanny Vale...</td>\n",
              "      <td>France</td>\n",
              "      <td>March 1, 2018</td>\n",
              "      <td>2015</td>\n",
              "      <td>TV-MA</td>\n",
              "      <td>81 min</td>\n",
              "      <td>International Movies, Thrillers</td>\n",
              "      <td>A night out in Paris quickly unravels when two...</td>\n",
              "    </tr>\n",
              "    <tr>\n",
              "      <th>8151</th>\n",
              "      <td>s8152</td>\n",
              "      <td>Movie</td>\n",
              "      <td>Tarzan</td>\n",
              "      <td>Chris Buck, Kevin Lima</td>\n",
              "      <td>Tony Goldwyn, Minnie Driver, Glenn Close, Bria...</td>\n",
              "      <td>United States</td>\n",
              "      <td>June 23, 2018</td>\n",
              "      <td>1999</td>\n",
              "      <td>G</td>\n",
              "      <td>89 min</td>\n",
              "      <td>Children &amp; Family Movies</td>\n",
              "      <td>After being shipwrecked off the African coast,...</td>\n",
              "    </tr>\n",
              "    <tr>\n",
              "      <th>8152</th>\n",
              "      <td>s8153</td>\n",
              "      <td>Movie</td>\n",
              "      <td>Tarzan 2</td>\n",
              "      <td>Brian Smith</td>\n",
              "      <td>Harrison Chad, George Carlin, Brad Garrett, Ro...</td>\n",
              "      <td>United States</td>\n",
              "      <td>June 23, 2017</td>\n",
              "      <td>2005</td>\n",
              "      <td>G</td>\n",
              "      <td>72 min</td>\n",
              "      <td>Children &amp; Family Movies</td>\n",
              "      <td>How did the King of the Jungle ascend to the t...</td>\n",
              "    </tr>\n",
              "    <tr>\n",
              "      <th>8153</th>\n",
              "      <td>s8154</td>\n",
              "      <td>Movie</td>\n",
              "      <td>Tattah</td>\n",
              "      <td>Sameh Abdulaziz</td>\n",
              "      <td>Mohamed Saad, Dolly Shahin, Marwa, Hayatem, Sa...</td>\n",
              "      <td>Egypt</td>\n",
              "      <td>May 9, 2019</td>\n",
              "      <td>2013</td>\n",
              "      <td>TV-14</td>\n",
              "      <td>0</td>\n",
              "      <td>0</td>\n",
              "      <td>0</td>\n",
              "    </tr>\n",
              "  </tbody>\n",
              "</table>\n",
              "<p>8154 rows × 12 columns</p>\n",
              "</div>"
            ],
            "text/plain": [
              "     show_id  ...                                        description\n",
              "0         s1  ...  As her father nears the end of his life, filmm...\n",
              "1         s2  ...  After crossing paths at a party, a Cape Town t...\n",
              "2         s3  ...  To protect his family from a powerful drug lor...\n",
              "3         s4  ...  Feuds, flirtations and toilet talk go down amo...\n",
              "4         s5  ...  In a city of coaching centers known to train I...\n",
              "...      ...  ...                                                ...\n",
              "8149   s8150  ...  A man and a woman on the run from the law are ...\n",
              "8150   s8151  ...  A night out in Paris quickly unravels when two...\n",
              "8151   s8152  ...  After being shipwrecked off the African coast,...\n",
              "8152   s8153  ...  How did the King of the Jungle ascend to the t...\n",
              "8153   s8154  ...                                                  0\n",
              "\n",
              "[8154 rows x 12 columns]"
            ]
          },
          "metadata": {},
          "execution_count": 21
        }
      ]
    },
    {
      "cell_type": "markdown",
      "metadata": {
        "id": "NVoyFRr0ct3T"
      },
      "source": [
        "but filling every none value with zero is not correct lets find a new method..."
      ]
    },
    {
      "cell_type": "code",
      "metadata": {
        "id": "VkXsIto-cYpu",
        "colab": {
          "base_uri": "https://localhost:8080/",
          "height": 921
        },
        "outputId": "99819dc8-1762-4a0b-ef4e-7ac9c9db48cd"
      },
      "source": [
        "netflix.fillna(method='ffill')"
      ],
      "execution_count": null,
      "outputs": [
        {
          "output_type": "execute_result",
          "data": {
            "text/html": [
              "<div>\n",
              "<style scoped>\n",
              "    .dataframe tbody tr th:only-of-type {\n",
              "        vertical-align: middle;\n",
              "    }\n",
              "\n",
              "    .dataframe tbody tr th {\n",
              "        vertical-align: top;\n",
              "    }\n",
              "\n",
              "    .dataframe thead th {\n",
              "        text-align: right;\n",
              "    }\n",
              "</style>\n",
              "<table border=\"1\" class=\"dataframe\">\n",
              "  <thead>\n",
              "    <tr style=\"text-align: right;\">\n",
              "      <th></th>\n",
              "      <th>show_id</th>\n",
              "      <th>type</th>\n",
              "      <th>title</th>\n",
              "      <th>director</th>\n",
              "      <th>cast</th>\n",
              "      <th>country</th>\n",
              "      <th>date_added</th>\n",
              "      <th>release_year</th>\n",
              "      <th>rating</th>\n",
              "      <th>duration</th>\n",
              "      <th>listed_in</th>\n",
              "      <th>description</th>\n",
              "    </tr>\n",
              "  </thead>\n",
              "  <tbody>\n",
              "    <tr>\n",
              "      <th>0</th>\n",
              "      <td>s1</td>\n",
              "      <td>Movie</td>\n",
              "      <td>Dick Johnson Is Dead</td>\n",
              "      <td>Kirsten Johnson</td>\n",
              "      <td>NaN</td>\n",
              "      <td>United States</td>\n",
              "      <td>September 25, 2021</td>\n",
              "      <td>2020</td>\n",
              "      <td>PG-13</td>\n",
              "      <td>90 min</td>\n",
              "      <td>Documentaries</td>\n",
              "      <td>As her father nears the end of his life, filmm...</td>\n",
              "    </tr>\n",
              "    <tr>\n",
              "      <th>1</th>\n",
              "      <td>s2</td>\n",
              "      <td>TV Show</td>\n",
              "      <td>Blood &amp; Water</td>\n",
              "      <td>Kirsten Johnson</td>\n",
              "      <td>Ama Qamata, Khosi Ngema, Gail Mabalane, Thaban...</td>\n",
              "      <td>South Africa</td>\n",
              "      <td>September 24, 2021</td>\n",
              "      <td>2021</td>\n",
              "      <td>TV-MA</td>\n",
              "      <td>2 Seasons</td>\n",
              "      <td>International TV Shows, TV Dramas, TV Mysteries</td>\n",
              "      <td>After crossing paths at a party, a Cape Town t...</td>\n",
              "    </tr>\n",
              "    <tr>\n",
              "      <th>2</th>\n",
              "      <td>s3</td>\n",
              "      <td>TV Show</td>\n",
              "      <td>Ganglands</td>\n",
              "      <td>Julien Leclercq</td>\n",
              "      <td>Sami Bouajila, Tracy Gotoas, Samuel Jouy, Nabi...</td>\n",
              "      <td>South Africa</td>\n",
              "      <td>September 24, 2021</td>\n",
              "      <td>2021</td>\n",
              "      <td>TV-MA</td>\n",
              "      <td>1 Season</td>\n",
              "      <td>Crime TV Shows, International TV Shows, TV Act...</td>\n",
              "      <td>To protect his family from a powerful drug lor...</td>\n",
              "    </tr>\n",
              "    <tr>\n",
              "      <th>3</th>\n",
              "      <td>s4</td>\n",
              "      <td>TV Show</td>\n",
              "      <td>Jailbirds New Orleans</td>\n",
              "      <td>Julien Leclercq</td>\n",
              "      <td>Sami Bouajila, Tracy Gotoas, Samuel Jouy, Nabi...</td>\n",
              "      <td>South Africa</td>\n",
              "      <td>September 24, 2021</td>\n",
              "      <td>2021</td>\n",
              "      <td>TV-MA</td>\n",
              "      <td>1 Season</td>\n",
              "      <td>Docuseries, Reality TV</td>\n",
              "      <td>Feuds, flirtations and toilet talk go down amo...</td>\n",
              "    </tr>\n",
              "    <tr>\n",
              "      <th>4</th>\n",
              "      <td>s5</td>\n",
              "      <td>TV Show</td>\n",
              "      <td>Kota Factory</td>\n",
              "      <td>Julien Leclercq</td>\n",
              "      <td>Mayur More, Jitendra Kumar, Ranjan Raj, Alam K...</td>\n",
              "      <td>India</td>\n",
              "      <td>September 24, 2021</td>\n",
              "      <td>2021</td>\n",
              "      <td>TV-MA</td>\n",
              "      <td>2 Seasons</td>\n",
              "      <td>International TV Shows, Romantic TV Shows, TV ...</td>\n",
              "      <td>In a city of coaching centers known to train I...</td>\n",
              "    </tr>\n",
              "    <tr>\n",
              "      <th>...</th>\n",
              "      <td>...</td>\n",
              "      <td>...</td>\n",
              "      <td>...</td>\n",
              "      <td>...</td>\n",
              "      <td>...</td>\n",
              "      <td>...</td>\n",
              "      <td>...</td>\n",
              "      <td>...</td>\n",
              "      <td>...</td>\n",
              "      <td>...</td>\n",
              "      <td>...</td>\n",
              "      <td>...</td>\n",
              "    </tr>\n",
              "    <tr>\n",
              "      <th>8149</th>\n",
              "      <td>s8150</td>\n",
              "      <td>Movie</td>\n",
              "      <td>Tamanchey</td>\n",
              "      <td>Navneet Behal</td>\n",
              "      <td>Nikhil Dwivedi, Richa Chadha, Damandeep Singh ...</td>\n",
              "      <td>India</td>\n",
              "      <td>October 15, 2017</td>\n",
              "      <td>2014</td>\n",
              "      <td>TV-MA</td>\n",
              "      <td>111 min</td>\n",
              "      <td>Action &amp; Adventure, International Movies, Roma...</td>\n",
              "      <td>A man and a woman on the run from the law are ...</td>\n",
              "    </tr>\n",
              "    <tr>\n",
              "      <th>8150</th>\n",
              "      <td>s8151</td>\n",
              "      <td>Movie</td>\n",
              "      <td>Tarif de nuit</td>\n",
              "      <td>Julien Seri</td>\n",
              "      <td>Jonathan Howard, Jonathan Demurger, Fanny Vale...</td>\n",
              "      <td>France</td>\n",
              "      <td>March 1, 2018</td>\n",
              "      <td>2015</td>\n",
              "      <td>TV-MA</td>\n",
              "      <td>81 min</td>\n",
              "      <td>International Movies, Thrillers</td>\n",
              "      <td>A night out in Paris quickly unravels when two...</td>\n",
              "    </tr>\n",
              "    <tr>\n",
              "      <th>8151</th>\n",
              "      <td>s8152</td>\n",
              "      <td>Movie</td>\n",
              "      <td>Tarzan</td>\n",
              "      <td>Chris Buck, Kevin Lima</td>\n",
              "      <td>Tony Goldwyn, Minnie Driver, Glenn Close, Bria...</td>\n",
              "      <td>United States</td>\n",
              "      <td>June 23, 2018</td>\n",
              "      <td>1999</td>\n",
              "      <td>G</td>\n",
              "      <td>89 min</td>\n",
              "      <td>Children &amp; Family Movies</td>\n",
              "      <td>After being shipwrecked off the African coast,...</td>\n",
              "    </tr>\n",
              "    <tr>\n",
              "      <th>8152</th>\n",
              "      <td>s8153</td>\n",
              "      <td>Movie</td>\n",
              "      <td>Tarzan 2</td>\n",
              "      <td>Brian Smith</td>\n",
              "      <td>Harrison Chad, George Carlin, Brad Garrett, Ro...</td>\n",
              "      <td>United States</td>\n",
              "      <td>June 23, 2017</td>\n",
              "      <td>2005</td>\n",
              "      <td>G</td>\n",
              "      <td>72 min</td>\n",
              "      <td>Children &amp; Family Movies</td>\n",
              "      <td>How did the King of the Jungle ascend to the t...</td>\n",
              "    </tr>\n",
              "    <tr>\n",
              "      <th>8153</th>\n",
              "      <td>s8154</td>\n",
              "      <td>Movie</td>\n",
              "      <td>Tattah</td>\n",
              "      <td>Sameh Abdulaziz</td>\n",
              "      <td>Mohamed Saad, Dolly Shahin, Marwa, Hayatem, Sa...</td>\n",
              "      <td>Egypt</td>\n",
              "      <td>May 9, 2019</td>\n",
              "      <td>2013</td>\n",
              "      <td>TV-14</td>\n",
              "      <td>72 min</td>\n",
              "      <td>Children &amp; Family Movies</td>\n",
              "      <td>How did the King of the Jungle ascend to the t...</td>\n",
              "    </tr>\n",
              "  </tbody>\n",
              "</table>\n",
              "<p>8154 rows × 12 columns</p>\n",
              "</div>"
            ],
            "text/plain": [
              "     show_id  ...                                        description\n",
              "0         s1  ...  As her father nears the end of his life, filmm...\n",
              "1         s2  ...  After crossing paths at a party, a Cape Town t...\n",
              "2         s3  ...  To protect his family from a powerful drug lor...\n",
              "3         s4  ...  Feuds, flirtations and toilet talk go down amo...\n",
              "4         s5  ...  In a city of coaching centers known to train I...\n",
              "...      ...  ...                                                ...\n",
              "8149   s8150  ...  A man and a woman on the run from the law are ...\n",
              "8150   s8151  ...  A night out in Paris quickly unravels when two...\n",
              "8151   s8152  ...  After being shipwrecked off the African coast,...\n",
              "8152   s8153  ...  How did the King of the Jungle ascend to the t...\n",
              "8153   s8154  ...  How did the King of the Jungle ascend to the t...\n",
              "\n",
              "[8154 rows x 12 columns]"
            ]
          },
          "metadata": {},
          "execution_count": 22
        }
      ]
    },
    {
      "cell_type": "markdown",
      "metadata": {
        "id": "hqXqNdPJdS1L"
      },
      "source": [
        "it is also not a convinient method to solve the above issue but it is the better one \n",
        "another method that is interpolate which means average"
      ]
    },
    {
      "cell_type": "code",
      "metadata": {
        "id": "HO_lFCe3dZbq",
        "colab": {
          "base_uri": "https://localhost:8080/",
          "height": 904
        },
        "outputId": "a1f6ce5e-ca40-45fb-c5b4-c2cd797b8ef1"
      },
      "source": [
        "netflix.interpolate()"
      ],
      "execution_count": null,
      "outputs": [
        {
          "output_type": "execute_result",
          "data": {
            "text/html": [
              "<div>\n",
              "<style scoped>\n",
              "    .dataframe tbody tr th:only-of-type {\n",
              "        vertical-align: middle;\n",
              "    }\n",
              "\n",
              "    .dataframe tbody tr th {\n",
              "        vertical-align: top;\n",
              "    }\n",
              "\n",
              "    .dataframe thead th {\n",
              "        text-align: right;\n",
              "    }\n",
              "</style>\n",
              "<table border=\"1\" class=\"dataframe\">\n",
              "  <thead>\n",
              "    <tr style=\"text-align: right;\">\n",
              "      <th></th>\n",
              "      <th>show_id</th>\n",
              "      <th>type</th>\n",
              "      <th>title</th>\n",
              "      <th>director</th>\n",
              "      <th>cast</th>\n",
              "      <th>country</th>\n",
              "      <th>date_added</th>\n",
              "      <th>release_year</th>\n",
              "      <th>rating</th>\n",
              "      <th>duration</th>\n",
              "      <th>listed_in</th>\n",
              "      <th>description</th>\n",
              "    </tr>\n",
              "  </thead>\n",
              "  <tbody>\n",
              "    <tr>\n",
              "      <th>0</th>\n",
              "      <td>s1</td>\n",
              "      <td>Movie</td>\n",
              "      <td>Dick Johnson Is Dead</td>\n",
              "      <td>Kirsten Johnson</td>\n",
              "      <td>NaN</td>\n",
              "      <td>United States</td>\n",
              "      <td>September 25, 2021</td>\n",
              "      <td>2020</td>\n",
              "      <td>PG-13</td>\n",
              "      <td>90 min</td>\n",
              "      <td>Documentaries</td>\n",
              "      <td>As her father nears the end of his life, filmm...</td>\n",
              "    </tr>\n",
              "    <tr>\n",
              "      <th>1</th>\n",
              "      <td>s2</td>\n",
              "      <td>TV Show</td>\n",
              "      <td>Blood &amp; Water</td>\n",
              "      <td>NaN</td>\n",
              "      <td>Ama Qamata, Khosi Ngema, Gail Mabalane, Thaban...</td>\n",
              "      <td>South Africa</td>\n",
              "      <td>September 24, 2021</td>\n",
              "      <td>2021</td>\n",
              "      <td>TV-MA</td>\n",
              "      <td>2 Seasons</td>\n",
              "      <td>International TV Shows, TV Dramas, TV Mysteries</td>\n",
              "      <td>After crossing paths at a party, a Cape Town t...</td>\n",
              "    </tr>\n",
              "    <tr>\n",
              "      <th>2</th>\n",
              "      <td>s3</td>\n",
              "      <td>TV Show</td>\n",
              "      <td>Ganglands</td>\n",
              "      <td>Julien Leclercq</td>\n",
              "      <td>Sami Bouajila, Tracy Gotoas, Samuel Jouy, Nabi...</td>\n",
              "      <td>NaN</td>\n",
              "      <td>September 24, 2021</td>\n",
              "      <td>2021</td>\n",
              "      <td>TV-MA</td>\n",
              "      <td>1 Season</td>\n",
              "      <td>Crime TV Shows, International TV Shows, TV Act...</td>\n",
              "      <td>To protect his family from a powerful drug lor...</td>\n",
              "    </tr>\n",
              "    <tr>\n",
              "      <th>3</th>\n",
              "      <td>s4</td>\n",
              "      <td>TV Show</td>\n",
              "      <td>Jailbirds New Orleans</td>\n",
              "      <td>NaN</td>\n",
              "      <td>NaN</td>\n",
              "      <td>NaN</td>\n",
              "      <td>September 24, 2021</td>\n",
              "      <td>2021</td>\n",
              "      <td>TV-MA</td>\n",
              "      <td>1 Season</td>\n",
              "      <td>Docuseries, Reality TV</td>\n",
              "      <td>Feuds, flirtations and toilet talk go down amo...</td>\n",
              "    </tr>\n",
              "    <tr>\n",
              "      <th>4</th>\n",
              "      <td>s5</td>\n",
              "      <td>TV Show</td>\n",
              "      <td>Kota Factory</td>\n",
              "      <td>NaN</td>\n",
              "      <td>Mayur More, Jitendra Kumar, Ranjan Raj, Alam K...</td>\n",
              "      <td>India</td>\n",
              "      <td>September 24, 2021</td>\n",
              "      <td>2021</td>\n",
              "      <td>TV-MA</td>\n",
              "      <td>2 Seasons</td>\n",
              "      <td>International TV Shows, Romantic TV Shows, TV ...</td>\n",
              "      <td>In a city of coaching centers known to train I...</td>\n",
              "    </tr>\n",
              "    <tr>\n",
              "      <th>...</th>\n",
              "      <td>...</td>\n",
              "      <td>...</td>\n",
              "      <td>...</td>\n",
              "      <td>...</td>\n",
              "      <td>...</td>\n",
              "      <td>...</td>\n",
              "      <td>...</td>\n",
              "      <td>...</td>\n",
              "      <td>...</td>\n",
              "      <td>...</td>\n",
              "      <td>...</td>\n",
              "      <td>...</td>\n",
              "    </tr>\n",
              "    <tr>\n",
              "      <th>8149</th>\n",
              "      <td>s8150</td>\n",
              "      <td>Movie</td>\n",
              "      <td>Tamanchey</td>\n",
              "      <td>Navneet Behal</td>\n",
              "      <td>Nikhil Dwivedi, Richa Chadha, Damandeep Singh ...</td>\n",
              "      <td>India</td>\n",
              "      <td>October 15, 2017</td>\n",
              "      <td>2014</td>\n",
              "      <td>TV-MA</td>\n",
              "      <td>111 min</td>\n",
              "      <td>Action &amp; Adventure, International Movies, Roma...</td>\n",
              "      <td>A man and a woman on the run from the law are ...</td>\n",
              "    </tr>\n",
              "    <tr>\n",
              "      <th>8150</th>\n",
              "      <td>s8151</td>\n",
              "      <td>Movie</td>\n",
              "      <td>Tarif de nuit</td>\n",
              "      <td>Julien Seri</td>\n",
              "      <td>Jonathan Howard, Jonathan Demurger, Fanny Vale...</td>\n",
              "      <td>France</td>\n",
              "      <td>March 1, 2018</td>\n",
              "      <td>2015</td>\n",
              "      <td>TV-MA</td>\n",
              "      <td>81 min</td>\n",
              "      <td>International Movies, Thrillers</td>\n",
              "      <td>A night out in Paris quickly unravels when two...</td>\n",
              "    </tr>\n",
              "    <tr>\n",
              "      <th>8151</th>\n",
              "      <td>s8152</td>\n",
              "      <td>Movie</td>\n",
              "      <td>Tarzan</td>\n",
              "      <td>Chris Buck, Kevin Lima</td>\n",
              "      <td>Tony Goldwyn, Minnie Driver, Glenn Close, Bria...</td>\n",
              "      <td>United States</td>\n",
              "      <td>June 23, 2018</td>\n",
              "      <td>1999</td>\n",
              "      <td>G</td>\n",
              "      <td>89 min</td>\n",
              "      <td>Children &amp; Family Movies</td>\n",
              "      <td>After being shipwrecked off the African coast,...</td>\n",
              "    </tr>\n",
              "    <tr>\n",
              "      <th>8152</th>\n",
              "      <td>s8153</td>\n",
              "      <td>Movie</td>\n",
              "      <td>Tarzan 2</td>\n",
              "      <td>Brian Smith</td>\n",
              "      <td>Harrison Chad, George Carlin, Brad Garrett, Ro...</td>\n",
              "      <td>United States</td>\n",
              "      <td>June 23, 2017</td>\n",
              "      <td>2005</td>\n",
              "      <td>G</td>\n",
              "      <td>72 min</td>\n",
              "      <td>Children &amp; Family Movies</td>\n",
              "      <td>How did the King of the Jungle ascend to the t...</td>\n",
              "    </tr>\n",
              "    <tr>\n",
              "      <th>8153</th>\n",
              "      <td>s8154</td>\n",
              "      <td>Movie</td>\n",
              "      <td>Tattah</td>\n",
              "      <td>Sameh Abdulaziz</td>\n",
              "      <td>Mohamed Saad, Dolly Shahin, Marwa, Hayatem, Sa...</td>\n",
              "      <td>Egypt</td>\n",
              "      <td>May 9, 2019</td>\n",
              "      <td>2013</td>\n",
              "      <td>TV-14</td>\n",
              "      <td>NaN</td>\n",
              "      <td>NaN</td>\n",
              "      <td>NaN</td>\n",
              "    </tr>\n",
              "  </tbody>\n",
              "</table>\n",
              "<p>8154 rows × 12 columns</p>\n",
              "</div>"
            ],
            "text/plain": [
              "     show_id  ...                                        description\n",
              "0         s1  ...  As her father nears the end of his life, filmm...\n",
              "1         s2  ...  After crossing paths at a party, a Cape Town t...\n",
              "2         s3  ...  To protect his family from a powerful drug lor...\n",
              "3         s4  ...  Feuds, flirtations and toilet talk go down amo...\n",
              "4         s5  ...  In a city of coaching centers known to train I...\n",
              "...      ...  ...                                                ...\n",
              "8149   s8150  ...  A man and a woman on the run from the law are ...\n",
              "8150   s8151  ...  A night out in Paris quickly unravels when two...\n",
              "8151   s8152  ...  After being shipwrecked off the African coast,...\n",
              "8152   s8153  ...  How did the King of the Jungle ascend to the t...\n",
              "8153   s8154  ...                                                NaN\n",
              "\n",
              "[8154 rows x 12 columns]"
            ]
          },
          "metadata": {},
          "execution_count": 23
        }
      ]
    },
    {
      "cell_type": "markdown",
      "metadata": {
        "id": "-6tfZKAffyQT"
      },
      "source": [
        "train-test splits using sklearn"
      ]
    },
    {
      "cell_type": "code",
      "metadata": {
        "id": "BwIVzf6_f6NL"
      },
      "source": [
        "from sklearn.model_selection import train_test_split\n",
        "train, test = train_test_split(netflix, test_size=0.20, random_state=42)    #test = 20% and train = 80%\n"
      ],
      "execution_count": null,
      "outputs": []
    },
    {
      "cell_type": "code",
      "metadata": {
        "id": "9KGGjwiBgyma",
        "colab": {
          "base_uri": "https://localhost:8080/"
        },
        "outputId": "4089a325-0e38-4bb8-abaa-f1c440542958"
      },
      "source": [
        "\n",
        "len(test)   #20%"
      ],
      "execution_count": null,
      "outputs": [
        {
          "output_type": "execute_result",
          "data": {
            "text/plain": [
              "1631"
            ]
          },
          "metadata": {},
          "execution_count": 25
        }
      ]
    },
    {
      "cell_type": "code",
      "metadata": {
        "id": "hun5u_8VhKwp",
        "colab": {
          "base_uri": "https://localhost:8080/"
        },
        "outputId": "a9292877-e325-459e-ad04-9d2fb062579d"
      },
      "source": [
        "len(train)   #80%"
      ],
      "execution_count": null,
      "outputs": [
        {
          "output_type": "execute_result",
          "data": {
            "text/plain": [
              "6523"
            ]
          },
          "metadata": {},
          "execution_count": 26
        }
      ]
    },
    {
      "cell_type": "code",
      "metadata": {
        "id": "Z0ylbF7OhQ5Z",
        "colab": {
          "base_uri": "https://localhost:8080/"
        },
        "outputId": "39727a57-e2f9-450b-8282-0ce3a66e814d"
      },
      "source": [
        "len(netflix)    #100%"
      ],
      "execution_count": null,
      "outputs": [
        {
          "output_type": "execute_result",
          "data": {
            "text/plain": [
              "8154"
            ]
          },
          "metadata": {},
          "execution_count": 27
        }
      ]
    },
    {
      "cell_type": "markdown",
      "metadata": {
        "id": "Ln_hlsGKhi9T"
      },
      "source": [
        "showing the first 5 rows of trainning dataset and testing dataset..."
      ]
    },
    {
      "cell_type": "code",
      "metadata": {
        "id": "AyfaorHAhr7C",
        "colab": {
          "base_uri": "https://localhost:8080/",
          "height": 506
        },
        "outputId": "ffe1b763-f954-4e10-ab66-781f5a9088fd"
      },
      "source": [
        "train.head()"
      ],
      "execution_count": null,
      "outputs": [
        {
          "output_type": "execute_result",
          "data": {
            "text/html": [
              "<div>\n",
              "<style scoped>\n",
              "    .dataframe tbody tr th:only-of-type {\n",
              "        vertical-align: middle;\n",
              "    }\n",
              "\n",
              "    .dataframe tbody tr th {\n",
              "        vertical-align: top;\n",
              "    }\n",
              "\n",
              "    .dataframe thead th {\n",
              "        text-align: right;\n",
              "    }\n",
              "</style>\n",
              "<table border=\"1\" class=\"dataframe\">\n",
              "  <thead>\n",
              "    <tr style=\"text-align: right;\">\n",
              "      <th></th>\n",
              "      <th>show_id</th>\n",
              "      <th>type</th>\n",
              "      <th>title</th>\n",
              "      <th>director</th>\n",
              "      <th>cast</th>\n",
              "      <th>country</th>\n",
              "      <th>date_added</th>\n",
              "      <th>release_year</th>\n",
              "      <th>rating</th>\n",
              "      <th>duration</th>\n",
              "      <th>listed_in</th>\n",
              "      <th>description</th>\n",
              "    </tr>\n",
              "  </thead>\n",
              "  <tbody>\n",
              "    <tr>\n",
              "      <th>293</th>\n",
              "      <td>s294</td>\n",
              "      <td>Movie</td>\n",
              "      <td>Slay</td>\n",
              "      <td>Adze Ugah</td>\n",
              "      <td>Enhle Mbali, Ramsey Nouah, Dawn Thandeka Kang,...</td>\n",
              "      <td>South Africa</td>\n",
              "      <td>August 8, 2021</td>\n",
              "      <td>2021</td>\n",
              "      <td>TV-MA</td>\n",
              "      <td>86 min</td>\n",
              "      <td>Comedies, International Movies, Romantic Movies</td>\n",
              "      <td>In pursuit of both success and validation, a g...</td>\n",
              "    </tr>\n",
              "    <tr>\n",
              "      <th>5960</th>\n",
              "      <td>s5961</td>\n",
              "      <td>Movie</td>\n",
              "      <td>187</td>\n",
              "      <td>Kevin Reynolds</td>\n",
              "      <td>Samuel L. Jackson, John Heard, Kelly Rowan, Cl...</td>\n",
              "      <td>United States</td>\n",
              "      <td>November 1, 2019</td>\n",
              "      <td>1997</td>\n",
              "      <td>R</td>\n",
              "      <td>119 min</td>\n",
              "      <td>Dramas</td>\n",
              "      <td>After one of his high school students attacks ...</td>\n",
              "    </tr>\n",
              "    <tr>\n",
              "      <th>3790</th>\n",
              "      <td>s3791</td>\n",
              "      <td>Movie</td>\n",
              "      <td>Mere Pyare Prime Minister</td>\n",
              "      <td>Rakeysh Omprakash Mehra</td>\n",
              "      <td>Anjali Patil, Om Kanojiya, Niteesh Wadhwa, Mak...</td>\n",
              "      <td>India</td>\n",
              "      <td>May 31, 2019</td>\n",
              "      <td>2019</td>\n",
              "      <td>TV-MA</td>\n",
              "      <td>103 min</td>\n",
              "      <td>Dramas, International Movies</td>\n",
              "      <td>When his mother suffers a traumatic incident, ...</td>\n",
              "    </tr>\n",
              "    <tr>\n",
              "      <th>3779</th>\n",
              "      <td>s3780</td>\n",
              "      <td>TV Show</td>\n",
              "      <td>Malibu Rescue: The Series</td>\n",
              "      <td>NaN</td>\n",
              "      <td>Ricardo Hurtado, Breanna Yde, Jackie R. Jacobs...</td>\n",
              "      <td>United States</td>\n",
              "      <td>June 3, 2019</td>\n",
              "      <td>2019</td>\n",
              "      <td>TV-G</td>\n",
              "      <td>1 Season</td>\n",
              "      <td>Kids' TV, TV Action &amp; Adventure, TV Comedies</td>\n",
              "      <td>On the heels of Junior Rescue training, Team F...</td>\n",
              "    </tr>\n",
              "    <tr>\n",
              "      <th>6702</th>\n",
              "      <td>s6703</td>\n",
              "      <td>Movie</td>\n",
              "      <td>Equals</td>\n",
              "      <td>Drake Doremus</td>\n",
              "      <td>Nicholas Hoult, Kristen Stewart, Jacki Weaver,...</td>\n",
              "      <td>United States, Indonesia</td>\n",
              "      <td>October 28, 2018</td>\n",
              "      <td>2015</td>\n",
              "      <td>PG-13</td>\n",
              "      <td>102 min</td>\n",
              "      <td>Dramas, Romantic Movies, Sci-Fi &amp; Fantasy</td>\n",
              "      <td>Two young lovers depart from the norm simply b...</td>\n",
              "    </tr>\n",
              "  </tbody>\n",
              "</table>\n",
              "</div>"
            ],
            "text/plain": [
              "     show_id  ...                                        description\n",
              "293     s294  ...  In pursuit of both success and validation, a g...\n",
              "5960   s5961  ...  After one of his high school students attacks ...\n",
              "3790   s3791  ...  When his mother suffers a traumatic incident, ...\n",
              "3779   s3780  ...  On the heels of Junior Rescue training, Team F...\n",
              "6702   s6703  ...  Two young lovers depart from the norm simply b...\n",
              "\n",
              "[5 rows x 12 columns]"
            ]
          },
          "metadata": {},
          "execution_count": 28
        }
      ]
    },
    {
      "cell_type": "code",
      "metadata": {
        "id": "95nZon7RhxR8",
        "colab": {
          "base_uri": "https://localhost:8080/",
          "height": 489
        },
        "outputId": "736afbbf-f174-457c-ce06-782f5f7cd6cd"
      },
      "source": [
        "test.head()"
      ],
      "execution_count": null,
      "outputs": [
        {
          "output_type": "execute_result",
          "data": {
            "text/html": [
              "<div>\n",
              "<style scoped>\n",
              "    .dataframe tbody tr th:only-of-type {\n",
              "        vertical-align: middle;\n",
              "    }\n",
              "\n",
              "    .dataframe tbody tr th {\n",
              "        vertical-align: top;\n",
              "    }\n",
              "\n",
              "    .dataframe thead th {\n",
              "        text-align: right;\n",
              "    }\n",
              "</style>\n",
              "<table border=\"1\" class=\"dataframe\">\n",
              "  <thead>\n",
              "    <tr style=\"text-align: right;\">\n",
              "      <th></th>\n",
              "      <th>show_id</th>\n",
              "      <th>type</th>\n",
              "      <th>title</th>\n",
              "      <th>director</th>\n",
              "      <th>cast</th>\n",
              "      <th>country</th>\n",
              "      <th>date_added</th>\n",
              "      <th>release_year</th>\n",
              "      <th>rating</th>\n",
              "      <th>duration</th>\n",
              "      <th>listed_in</th>\n",
              "      <th>description</th>\n",
              "    </tr>\n",
              "  </thead>\n",
              "  <tbody>\n",
              "    <tr>\n",
              "      <th>4342</th>\n",
              "      <td>s4343</td>\n",
              "      <td>Movie</td>\n",
              "      <td>Line Walker</td>\n",
              "      <td>Jazz Boon</td>\n",
              "      <td>Nick Cheung, Louis Koo, Francis Chun-Yu Ng, Ch...</td>\n",
              "      <td>China, Hong Kong</td>\n",
              "      <td>December 1, 2018</td>\n",
              "      <td>2016</td>\n",
              "      <td>TV-MA</td>\n",
              "      <td>109 min</td>\n",
              "      <td>Action &amp; Adventure, Dramas, International Movies</td>\n",
              "      <td>A Hong Kong intelligence officer tasked with f...</td>\n",
              "    </tr>\n",
              "    <tr>\n",
              "      <th>1203</th>\n",
              "      <td>s1204</td>\n",
              "      <td>Movie</td>\n",
              "      <td>The BFG</td>\n",
              "      <td>Steven Spielberg</td>\n",
              "      <td>Mark Rylance, Ruby Barnhill, Penelope Wilton, ...</td>\n",
              "      <td>United States, India, United Kingdom</td>\n",
              "      <td>March 15, 2021</td>\n",
              "      <td>2016</td>\n",
              "      <td>PG</td>\n",
              "      <td>118 min</td>\n",
              "      <td>Children &amp; Family Movies, Dramas</td>\n",
              "      <td>A little orphan meets up with a kind giant who...</td>\n",
              "    </tr>\n",
              "    <tr>\n",
              "      <th>7127</th>\n",
              "      <td>s7128</td>\n",
              "      <td>Movie</td>\n",
              "      <td>Jesus: Countdown to Calvary</td>\n",
              "      <td>Gerry Hoban</td>\n",
              "      <td>Hugh Bonneville</td>\n",
              "      <td>Ireland, United States, France</td>\n",
              "      <td>April 1, 2019</td>\n",
              "      <td>2018</td>\n",
              "      <td>TV-14</td>\n",
              "      <td>53 min</td>\n",
              "      <td>Documentaries, Faith &amp; Spirituality</td>\n",
              "      <td>Host Hugh Bonneville traces Jesus' last days t...</td>\n",
              "    </tr>\n",
              "    <tr>\n",
              "      <th>1758</th>\n",
              "      <td>s1759</td>\n",
              "      <td>TV Show</td>\n",
              "      <td>LEGO Ninjago</td>\n",
              "      <td>NaN</td>\n",
              "      <td>Michael Adamthwaite, Paul Dobson, Kelly Metzge...</td>\n",
              "      <td>Canada</td>\n",
              "      <td>November 1, 2020</td>\n",
              "      <td>2020</td>\n",
              "      <td>TV-Y7</td>\n",
              "      <td>2 Seasons</td>\n",
              "      <td>Kids' TV</td>\n",
              "      <td>While fighting foes across Ninjago City and be...</td>\n",
              "    </tr>\n",
              "    <tr>\n",
              "      <th>927</th>\n",
              "      <td>s928</td>\n",
              "      <td>TV Show</td>\n",
              "      <td>Barney and Friends</td>\n",
              "      <td>NaN</td>\n",
              "      <td>Bob West, Julie Johnson, David Joyner, Jeff Ay...</td>\n",
              "      <td>NaN</td>\n",
              "      <td>May 1, 2021</td>\n",
              "      <td>2010</td>\n",
              "      <td>TV-Y</td>\n",
              "      <td>2 Seasons</td>\n",
              "      <td>Kids' TV</td>\n",
              "      <td>Barney the purple dinosaur, Baby Bop and B.J. ...</td>\n",
              "    </tr>\n",
              "  </tbody>\n",
              "</table>\n",
              "</div>"
            ],
            "text/plain": [
              "     show_id  ...                                        description\n",
              "4342   s4343  ...  A Hong Kong intelligence officer tasked with f...\n",
              "1203   s1204  ...  A little orphan meets up with a kind giant who...\n",
              "7127   s7128  ...  Host Hugh Bonneville traces Jesus' last days t...\n",
              "1758   s1759  ...  While fighting foes across Ninjago City and be...\n",
              "927     s928  ...  Barney the purple dinosaur, Baby Bop and B.J. ...\n",
              "\n",
              "[5 rows x 12 columns]"
            ]
          },
          "metadata": {},
          "execution_count": 29
        }
      ]
    },
    {
      "cell_type": "code",
      "metadata": {
        "id": "HYKUnhbDizJZ"
      },
      "source": [
        "train2, val = train_test_split(train,test_size=0.20,random_state=42)"
      ],
      "execution_count": null,
      "outputs": []
    },
    {
      "cell_type": "code",
      "metadata": {
        "id": "Qf6T2YDpjPvb",
        "colab": {
          "base_uri": "https://localhost:8080/",
          "height": 522
        },
        "outputId": "73b94b30-9144-44cf-e020-ba530a6ea5a6"
      },
      "source": [
        "val.head()"
      ],
      "execution_count": null,
      "outputs": [
        {
          "output_type": "execute_result",
          "data": {
            "text/html": [
              "<div>\n",
              "<style scoped>\n",
              "    .dataframe tbody tr th:only-of-type {\n",
              "        vertical-align: middle;\n",
              "    }\n",
              "\n",
              "    .dataframe tbody tr th {\n",
              "        vertical-align: top;\n",
              "    }\n",
              "\n",
              "    .dataframe thead th {\n",
              "        text-align: right;\n",
              "    }\n",
              "</style>\n",
              "<table border=\"1\" class=\"dataframe\">\n",
              "  <thead>\n",
              "    <tr style=\"text-align: right;\">\n",
              "      <th></th>\n",
              "      <th>show_id</th>\n",
              "      <th>type</th>\n",
              "      <th>title</th>\n",
              "      <th>director</th>\n",
              "      <th>cast</th>\n",
              "      <th>country</th>\n",
              "      <th>date_added</th>\n",
              "      <th>release_year</th>\n",
              "      <th>rating</th>\n",
              "      <th>duration</th>\n",
              "      <th>listed_in</th>\n",
              "      <th>description</th>\n",
              "    </tr>\n",
              "  </thead>\n",
              "  <tbody>\n",
              "    <tr>\n",
              "      <th>5468</th>\n",
              "      <td>s5469</td>\n",
              "      <td>Movie</td>\n",
              "      <td>Sarah Silverman A Speck of Dust</td>\n",
              "      <td>Liam Lynch</td>\n",
              "      <td>Sarah Silverman</td>\n",
              "      <td>United States</td>\n",
              "      <td>May 30, 2017</td>\n",
              "      <td>2017</td>\n",
              "      <td>TV-MA</td>\n",
              "      <td>71 min</td>\n",
              "      <td>Stand-Up Comedy</td>\n",
              "      <td>In her first comedy special post-health scare,...</td>\n",
              "    </tr>\n",
              "    <tr>\n",
              "      <th>6402</th>\n",
              "      <td>s6403</td>\n",
              "      <td>Movie</td>\n",
              "      <td>Cake</td>\n",
              "      <td>Asim Abbasi</td>\n",
              "      <td>Aamina Sheikh, Sanam Saeed, Adnan Malik, Moham...</td>\n",
              "      <td>United Kingdom, Pakistan</td>\n",
              "      <td>May 15, 2019</td>\n",
              "      <td>2018</td>\n",
              "      <td>TV-MA</td>\n",
              "      <td>125 min</td>\n",
              "      <td>Comedies, Dramas, International Movies</td>\n",
              "      <td>When their aging father’s illness reunites two...</td>\n",
              "    </tr>\n",
              "    <tr>\n",
              "      <th>5980</th>\n",
              "      <td>s5981</td>\n",
              "      <td>Movie</td>\n",
              "      <td>1 Mile to You</td>\n",
              "      <td>Leif Tilden</td>\n",
              "      <td>Billy Crudup, Graham Rogers, Liana Liberato, S...</td>\n",
              "      <td>United States</td>\n",
              "      <td>July 7, 2017</td>\n",
              "      <td>2017</td>\n",
              "      <td>TV-14</td>\n",
              "      <td>105 min</td>\n",
              "      <td>Dramas, Romantic Movies, Sports Movies</td>\n",
              "      <td>After escaping the bus accident that killed hi...</td>\n",
              "    </tr>\n",
              "    <tr>\n",
              "      <th>5347</th>\n",
              "      <td>s5348</td>\n",
              "      <td>TV Show</td>\n",
              "      <td>Bountiful Blessings</td>\n",
              "      <td>NaN</td>\n",
              "      <td>Jessica Hsuan, Tay Ping Hui, Thomas Ong, Jeffr...</td>\n",
              "      <td>Singapore</td>\n",
              "      <td>August 1, 2017</td>\n",
              "      <td>2011</td>\n",
              "      <td>TV-14</td>\n",
              "      <td>1 Season</td>\n",
              "      <td>International TV Shows, TV Dramas, TV Sci-Fi &amp;...</td>\n",
              "      <td>A former mortal who is now the Kitchen God coo...</td>\n",
              "    </tr>\n",
              "    <tr>\n",
              "      <th>3983</th>\n",
              "      <td>s3984</td>\n",
              "      <td>Movie</td>\n",
              "      <td>ReMastered: The Miami Showband Massacre</td>\n",
              "      <td>Stuart Sender</td>\n",
              "      <td>NaN</td>\n",
              "      <td>United States</td>\n",
              "      <td>March 22, 2019</td>\n",
              "      <td>2019</td>\n",
              "      <td>TV-MA</td>\n",
              "      <td>71 min</td>\n",
              "      <td>Documentaries, Music &amp; Musicals</td>\n",
              "      <td>The killing of three members of the Miami Show...</td>\n",
              "    </tr>\n",
              "  </tbody>\n",
              "</table>\n",
              "</div>"
            ],
            "text/plain": [
              "     show_id  ...                                        description\n",
              "5468   s5469  ...  In her first comedy special post-health scare,...\n",
              "6402   s6403  ...  When their aging father’s illness reunites two...\n",
              "5980   s5981  ...  After escaping the bus accident that killed hi...\n",
              "5347   s5348  ...  A former mortal who is now the Kitchen God coo...\n",
              "3983   s3984  ...  The killing of three members of the Miami Show...\n",
              "\n",
              "[5 rows x 12 columns]"
            ]
          },
          "metadata": {},
          "execution_count": 31
        }
      ]
    },
    {
      "cell_type": "code",
      "metadata": {
        "id": "2UHhRtGQj7d0",
        "colab": {
          "base_uri": "https://localhost:8080/"
        },
        "outputId": "4b9aa4de-4d20-4a2e-f62f-34c7e2c241ae"
      },
      "source": [
        "y = netflix['release_year']\n",
        "y"
      ],
      "execution_count": null,
      "outputs": [
        {
          "output_type": "execute_result",
          "data": {
            "text/plain": [
              "0       2020\n",
              "1       2021\n",
              "2       2021\n",
              "3       2021\n",
              "4       2021\n",
              "        ... \n",
              "8149    2014\n",
              "8150    2015\n",
              "8151    1999\n",
              "8152    2005\n",
              "8153    2013\n",
              "Name: release_year, Length: 8154, dtype: int64"
            ]
          },
          "metadata": {},
          "execution_count": 32
        }
      ]
    },
    {
      "cell_type": "code",
      "metadata": {
        "id": "jciirUlBkn99",
        "colab": {
          "base_uri": "https://localhost:8080/",
          "height": 371
        },
        "outputId": "9edb07df-fa32-4d54-d1a1-56784b09a01f"
      },
      "source": [
        "x = netflix.drop(columns='release_year')\n",
        "x.head()"
      ],
      "execution_count": null,
      "outputs": [
        {
          "output_type": "execute_result",
          "data": {
            "text/html": [
              "<div>\n",
              "<style scoped>\n",
              "    .dataframe tbody tr th:only-of-type {\n",
              "        vertical-align: middle;\n",
              "    }\n",
              "\n",
              "    .dataframe tbody tr th {\n",
              "        vertical-align: top;\n",
              "    }\n",
              "\n",
              "    .dataframe thead th {\n",
              "        text-align: right;\n",
              "    }\n",
              "</style>\n",
              "<table border=\"1\" class=\"dataframe\">\n",
              "  <thead>\n",
              "    <tr style=\"text-align: right;\">\n",
              "      <th></th>\n",
              "      <th>show_id</th>\n",
              "      <th>type</th>\n",
              "      <th>title</th>\n",
              "      <th>director</th>\n",
              "      <th>cast</th>\n",
              "      <th>country</th>\n",
              "      <th>date_added</th>\n",
              "      <th>rating</th>\n",
              "      <th>duration</th>\n",
              "      <th>listed_in</th>\n",
              "      <th>description</th>\n",
              "    </tr>\n",
              "  </thead>\n",
              "  <tbody>\n",
              "    <tr>\n",
              "      <th>0</th>\n",
              "      <td>s1</td>\n",
              "      <td>Movie</td>\n",
              "      <td>Dick Johnson Is Dead</td>\n",
              "      <td>Kirsten Johnson</td>\n",
              "      <td>NaN</td>\n",
              "      <td>United States</td>\n",
              "      <td>September 25, 2021</td>\n",
              "      <td>PG-13</td>\n",
              "      <td>90 min</td>\n",
              "      <td>Documentaries</td>\n",
              "      <td>As her father nears the end of his life, filmm...</td>\n",
              "    </tr>\n",
              "    <tr>\n",
              "      <th>1</th>\n",
              "      <td>s2</td>\n",
              "      <td>TV Show</td>\n",
              "      <td>Blood &amp; Water</td>\n",
              "      <td>NaN</td>\n",
              "      <td>Ama Qamata, Khosi Ngema, Gail Mabalane, Thaban...</td>\n",
              "      <td>South Africa</td>\n",
              "      <td>September 24, 2021</td>\n",
              "      <td>TV-MA</td>\n",
              "      <td>2 Seasons</td>\n",
              "      <td>International TV Shows, TV Dramas, TV Mysteries</td>\n",
              "      <td>After crossing paths at a party, a Cape Town t...</td>\n",
              "    </tr>\n",
              "    <tr>\n",
              "      <th>2</th>\n",
              "      <td>s3</td>\n",
              "      <td>TV Show</td>\n",
              "      <td>Ganglands</td>\n",
              "      <td>Julien Leclercq</td>\n",
              "      <td>Sami Bouajila, Tracy Gotoas, Samuel Jouy, Nabi...</td>\n",
              "      <td>NaN</td>\n",
              "      <td>September 24, 2021</td>\n",
              "      <td>TV-MA</td>\n",
              "      <td>1 Season</td>\n",
              "      <td>Crime TV Shows, International TV Shows, TV Act...</td>\n",
              "      <td>To protect his family from a powerful drug lor...</td>\n",
              "    </tr>\n",
              "    <tr>\n",
              "      <th>3</th>\n",
              "      <td>s4</td>\n",
              "      <td>TV Show</td>\n",
              "      <td>Jailbirds New Orleans</td>\n",
              "      <td>NaN</td>\n",
              "      <td>NaN</td>\n",
              "      <td>NaN</td>\n",
              "      <td>September 24, 2021</td>\n",
              "      <td>TV-MA</td>\n",
              "      <td>1 Season</td>\n",
              "      <td>Docuseries, Reality TV</td>\n",
              "      <td>Feuds, flirtations and toilet talk go down amo...</td>\n",
              "    </tr>\n",
              "    <tr>\n",
              "      <th>4</th>\n",
              "      <td>s5</td>\n",
              "      <td>TV Show</td>\n",
              "      <td>Kota Factory</td>\n",
              "      <td>NaN</td>\n",
              "      <td>Mayur More, Jitendra Kumar, Ranjan Raj, Alam K...</td>\n",
              "      <td>India</td>\n",
              "      <td>September 24, 2021</td>\n",
              "      <td>TV-MA</td>\n",
              "      <td>2 Seasons</td>\n",
              "      <td>International TV Shows, Romantic TV Shows, TV ...</td>\n",
              "      <td>In a city of coaching centers known to train I...</td>\n",
              "    </tr>\n",
              "  </tbody>\n",
              "</table>\n",
              "</div>"
            ],
            "text/plain": [
              "  show_id  ...                                        description\n",
              "0      s1  ...  As her father nears the end of his life, filmm...\n",
              "1      s2  ...  After crossing paths at a party, a Cape Town t...\n",
              "2      s3  ...  To protect his family from a powerful drug lor...\n",
              "3      s4  ...  Feuds, flirtations and toilet talk go down amo...\n",
              "4      s5  ...  In a city of coaching centers known to train I...\n",
              "\n",
              "[5 rows x 11 columns]"
            ]
          },
          "metadata": {},
          "execution_count": 33
        }
      ]
    },
    {
      "cell_type": "code",
      "metadata": {
        "id": "x5yMw4ZolsQG"
      },
      "source": [
        "x_train, x_test, y_train, y_test= train_test_split(x, y, test_size=0.20,random_state=42)"
      ],
      "execution_count": null,
      "outputs": []
    },
    {
      "cell_type": "code",
      "metadata": {
        "id": "9xdReXwPmbQr",
        "colab": {
          "base_uri": "https://localhost:8080/",
          "height": 405
        },
        "outputId": "b973cc91-3dfd-443a-a3ef-0eac6da4cfd4"
      },
      "source": [
        "x_train.head()"
      ],
      "execution_count": null,
      "outputs": [
        {
          "output_type": "execute_result",
          "data": {
            "text/html": [
              "<div>\n",
              "<style scoped>\n",
              "    .dataframe tbody tr th:only-of-type {\n",
              "        vertical-align: middle;\n",
              "    }\n",
              "\n",
              "    .dataframe tbody tr th {\n",
              "        vertical-align: top;\n",
              "    }\n",
              "\n",
              "    .dataframe thead th {\n",
              "        text-align: right;\n",
              "    }\n",
              "</style>\n",
              "<table border=\"1\" class=\"dataframe\">\n",
              "  <thead>\n",
              "    <tr style=\"text-align: right;\">\n",
              "      <th></th>\n",
              "      <th>show_id</th>\n",
              "      <th>type</th>\n",
              "      <th>title</th>\n",
              "      <th>director</th>\n",
              "      <th>cast</th>\n",
              "      <th>country</th>\n",
              "      <th>date_added</th>\n",
              "      <th>rating</th>\n",
              "      <th>duration</th>\n",
              "      <th>listed_in</th>\n",
              "      <th>description</th>\n",
              "    </tr>\n",
              "  </thead>\n",
              "  <tbody>\n",
              "    <tr>\n",
              "      <th>293</th>\n",
              "      <td>s294</td>\n",
              "      <td>Movie</td>\n",
              "      <td>Slay</td>\n",
              "      <td>Adze Ugah</td>\n",
              "      <td>Enhle Mbali, Ramsey Nouah, Dawn Thandeka Kang,...</td>\n",
              "      <td>South Africa</td>\n",
              "      <td>August 8, 2021</td>\n",
              "      <td>TV-MA</td>\n",
              "      <td>86 min</td>\n",
              "      <td>Comedies, International Movies, Romantic Movies</td>\n",
              "      <td>In pursuit of both success and validation, a g...</td>\n",
              "    </tr>\n",
              "    <tr>\n",
              "      <th>5960</th>\n",
              "      <td>s5961</td>\n",
              "      <td>Movie</td>\n",
              "      <td>187</td>\n",
              "      <td>Kevin Reynolds</td>\n",
              "      <td>Samuel L. Jackson, John Heard, Kelly Rowan, Cl...</td>\n",
              "      <td>United States</td>\n",
              "      <td>November 1, 2019</td>\n",
              "      <td>R</td>\n",
              "      <td>119 min</td>\n",
              "      <td>Dramas</td>\n",
              "      <td>After one of his high school students attacks ...</td>\n",
              "    </tr>\n",
              "    <tr>\n",
              "      <th>3790</th>\n",
              "      <td>s3791</td>\n",
              "      <td>Movie</td>\n",
              "      <td>Mere Pyare Prime Minister</td>\n",
              "      <td>Rakeysh Omprakash Mehra</td>\n",
              "      <td>Anjali Patil, Om Kanojiya, Niteesh Wadhwa, Mak...</td>\n",
              "      <td>India</td>\n",
              "      <td>May 31, 2019</td>\n",
              "      <td>TV-MA</td>\n",
              "      <td>103 min</td>\n",
              "      <td>Dramas, International Movies</td>\n",
              "      <td>When his mother suffers a traumatic incident, ...</td>\n",
              "    </tr>\n",
              "    <tr>\n",
              "      <th>3779</th>\n",
              "      <td>s3780</td>\n",
              "      <td>TV Show</td>\n",
              "      <td>Malibu Rescue: The Series</td>\n",
              "      <td>NaN</td>\n",
              "      <td>Ricardo Hurtado, Breanna Yde, Jackie R. Jacobs...</td>\n",
              "      <td>United States</td>\n",
              "      <td>June 3, 2019</td>\n",
              "      <td>TV-G</td>\n",
              "      <td>1 Season</td>\n",
              "      <td>Kids' TV, TV Action &amp; Adventure, TV Comedies</td>\n",
              "      <td>On the heels of Junior Rescue training, Team F...</td>\n",
              "    </tr>\n",
              "    <tr>\n",
              "      <th>6702</th>\n",
              "      <td>s6703</td>\n",
              "      <td>Movie</td>\n",
              "      <td>Equals</td>\n",
              "      <td>Drake Doremus</td>\n",
              "      <td>Nicholas Hoult, Kristen Stewart, Jacki Weaver,...</td>\n",
              "      <td>United States, Indonesia</td>\n",
              "      <td>October 28, 2018</td>\n",
              "      <td>PG-13</td>\n",
              "      <td>102 min</td>\n",
              "      <td>Dramas, Romantic Movies, Sci-Fi &amp; Fantasy</td>\n",
              "      <td>Two young lovers depart from the norm simply b...</td>\n",
              "    </tr>\n",
              "  </tbody>\n",
              "</table>\n",
              "</div>"
            ],
            "text/plain": [
              "     show_id  ...                                        description\n",
              "293     s294  ...  In pursuit of both success and validation, a g...\n",
              "5960   s5961  ...  After one of his high school students attacks ...\n",
              "3790   s3791  ...  When his mother suffers a traumatic incident, ...\n",
              "3779   s3780  ...  On the heels of Junior Rescue training, Team F...\n",
              "6702   s6703  ...  Two young lovers depart from the norm simply b...\n",
              "\n",
              "[5 rows x 11 columns]"
            ]
          },
          "metadata": {},
          "execution_count": 35
        }
      ]
    },
    {
      "cell_type": "code",
      "metadata": {
        "id": "7_rC6Z_Umifw",
        "colab": {
          "base_uri": "https://localhost:8080/"
        },
        "outputId": "b8930d61-4f5d-4b0e-ffee-0913e32ee8b5"
      },
      "source": [
        "y_train"
      ],
      "execution_count": null,
      "outputs": [
        {
          "output_type": "execute_result",
          "data": {
            "text/plain": [
              "293     2021\n",
              "5960    1997\n",
              "3790    2019\n",
              "3779    2019\n",
              "6702    2015\n",
              "        ... \n",
              "5226    2017\n",
              "5390    2014\n",
              "860     2020\n",
              "7603    2017\n",
              "7270    2015\n",
              "Name: release_year, Length: 6523, dtype: int64"
            ]
          },
          "metadata": {},
          "execution_count": 36
        }
      ]
    },
    {
      "cell_type": "code",
      "metadata": {
        "id": "sZ7GshF2mnYH",
        "colab": {
          "base_uri": "https://localhost:8080/",
          "height": 422
        },
        "outputId": "e1de835b-adfe-4cf4-9b29-ad9245b582aa"
      },
      "source": [
        "x_test.head()"
      ],
      "execution_count": null,
      "outputs": [
        {
          "output_type": "execute_result",
          "data": {
            "text/html": [
              "<div>\n",
              "<style scoped>\n",
              "    .dataframe tbody tr th:only-of-type {\n",
              "        vertical-align: middle;\n",
              "    }\n",
              "\n",
              "    .dataframe tbody tr th {\n",
              "        vertical-align: top;\n",
              "    }\n",
              "\n",
              "    .dataframe thead th {\n",
              "        text-align: right;\n",
              "    }\n",
              "</style>\n",
              "<table border=\"1\" class=\"dataframe\">\n",
              "  <thead>\n",
              "    <tr style=\"text-align: right;\">\n",
              "      <th></th>\n",
              "      <th>show_id</th>\n",
              "      <th>type</th>\n",
              "      <th>title</th>\n",
              "      <th>director</th>\n",
              "      <th>cast</th>\n",
              "      <th>country</th>\n",
              "      <th>date_added</th>\n",
              "      <th>rating</th>\n",
              "      <th>duration</th>\n",
              "      <th>listed_in</th>\n",
              "      <th>description</th>\n",
              "    </tr>\n",
              "  </thead>\n",
              "  <tbody>\n",
              "    <tr>\n",
              "      <th>4342</th>\n",
              "      <td>s4343</td>\n",
              "      <td>Movie</td>\n",
              "      <td>Line Walker</td>\n",
              "      <td>Jazz Boon</td>\n",
              "      <td>Nick Cheung, Louis Koo, Francis Chun-Yu Ng, Ch...</td>\n",
              "      <td>China, Hong Kong</td>\n",
              "      <td>December 1, 2018</td>\n",
              "      <td>TV-MA</td>\n",
              "      <td>109 min</td>\n",
              "      <td>Action &amp; Adventure, Dramas, International Movies</td>\n",
              "      <td>A Hong Kong intelligence officer tasked with f...</td>\n",
              "    </tr>\n",
              "    <tr>\n",
              "      <th>1203</th>\n",
              "      <td>s1204</td>\n",
              "      <td>Movie</td>\n",
              "      <td>The BFG</td>\n",
              "      <td>Steven Spielberg</td>\n",
              "      <td>Mark Rylance, Ruby Barnhill, Penelope Wilton, ...</td>\n",
              "      <td>United States, India, United Kingdom</td>\n",
              "      <td>March 15, 2021</td>\n",
              "      <td>PG</td>\n",
              "      <td>118 min</td>\n",
              "      <td>Children &amp; Family Movies, Dramas</td>\n",
              "      <td>A little orphan meets up with a kind giant who...</td>\n",
              "    </tr>\n",
              "    <tr>\n",
              "      <th>7127</th>\n",
              "      <td>s7128</td>\n",
              "      <td>Movie</td>\n",
              "      <td>Jesus: Countdown to Calvary</td>\n",
              "      <td>Gerry Hoban</td>\n",
              "      <td>Hugh Bonneville</td>\n",
              "      <td>Ireland, United States, France</td>\n",
              "      <td>April 1, 2019</td>\n",
              "      <td>TV-14</td>\n",
              "      <td>53 min</td>\n",
              "      <td>Documentaries, Faith &amp; Spirituality</td>\n",
              "      <td>Host Hugh Bonneville traces Jesus' last days t...</td>\n",
              "    </tr>\n",
              "    <tr>\n",
              "      <th>1758</th>\n",
              "      <td>s1759</td>\n",
              "      <td>TV Show</td>\n",
              "      <td>LEGO Ninjago</td>\n",
              "      <td>NaN</td>\n",
              "      <td>Michael Adamthwaite, Paul Dobson, Kelly Metzge...</td>\n",
              "      <td>Canada</td>\n",
              "      <td>November 1, 2020</td>\n",
              "      <td>TV-Y7</td>\n",
              "      <td>2 Seasons</td>\n",
              "      <td>Kids' TV</td>\n",
              "      <td>While fighting foes across Ninjago City and be...</td>\n",
              "    </tr>\n",
              "    <tr>\n",
              "      <th>927</th>\n",
              "      <td>s928</td>\n",
              "      <td>TV Show</td>\n",
              "      <td>Barney and Friends</td>\n",
              "      <td>NaN</td>\n",
              "      <td>Bob West, Julie Johnson, David Joyner, Jeff Ay...</td>\n",
              "      <td>NaN</td>\n",
              "      <td>May 1, 2021</td>\n",
              "      <td>TV-Y</td>\n",
              "      <td>2 Seasons</td>\n",
              "      <td>Kids' TV</td>\n",
              "      <td>Barney the purple dinosaur, Baby Bop and B.J. ...</td>\n",
              "    </tr>\n",
              "  </tbody>\n",
              "</table>\n",
              "</div>"
            ],
            "text/plain": [
              "     show_id  ...                                        description\n",
              "4342   s4343  ...  A Hong Kong intelligence officer tasked with f...\n",
              "1203   s1204  ...  A little orphan meets up with a kind giant who...\n",
              "7127   s7128  ...  Host Hugh Bonneville traces Jesus' last days t...\n",
              "1758   s1759  ...  While fighting foes across Ninjago City and be...\n",
              "927     s928  ...  Barney the purple dinosaur, Baby Bop and B.J. ...\n",
              "\n",
              "[5 rows x 11 columns]"
            ]
          },
          "metadata": {},
          "execution_count": 37
        }
      ]
    },
    {
      "cell_type": "code",
      "metadata": {
        "id": "XI9WbLYQmr87",
        "colab": {
          "base_uri": "https://localhost:8080/"
        },
        "outputId": "16d1b6eb-ed5c-42bc-87dc-7fcee984d9d0"
      },
      "source": [
        "y_test"
      ],
      "execution_count": null,
      "outputs": [
        {
          "output_type": "execute_result",
          "data": {
            "text/plain": [
              "4342    2016\n",
              "1203    2016\n",
              "7127    2018\n",
              "1758    2020\n",
              "927     2010\n",
              "        ... \n",
              "5050    2017\n",
              "6950    2017\n",
              "7486    2016\n",
              "5060    2018\n",
              "6920    2017\n",
              "Name: release_year, Length: 1631, dtype: int64"
            ]
          },
          "metadata": {},
          "execution_count": 38
        }
      ]
    },
    {
      "cell_type": "markdown",
      "metadata": {
        "id": "sTmLVz-6mvIc"
      },
      "source": [
        "that's it for splitting the data set into training and testing \n",
        "note: if you are not giving the test size automatically the python takes it as 0.25 means off 25% and 75% "
      ]
    },
    {
      "cell_type": "markdown",
      "metadata": {
        "id": "yiOGxbZMnI7i"
      },
      "source": [
        "**RECOMMENDATIONS**"
      ]
    },
    {
      "cell_type": "markdown",
      "metadata": {
        "id": "ccGzooD9PQ9V"
      },
      "source": [
        "creating model"
      ]
    },
    {
      "cell_type": "code",
      "metadata": {
        "id": "xLeEjnr7PVCO"
      },
      "source": [
        "%matplotlib inline\n",
        "from sklearn.preprocessing import LabelEncoder\n",
        "from sklearn.model_selection import train_test_split\n",
        "from sklearn.tree import DecisionTreeClassifier\n",
        "from sklearn.metrics import classification_report, confusion_matrix\n",
        "from sklearn.tree import plot_tree"
      ],
      "execution_count": null,
      "outputs": []
    },
    {
      "cell_type": "code",
      "metadata": {
        "colab": {
          "base_uri": "https://localhost:8080/"
        },
        "id": "pYuVKIdeU5oB",
        "outputId": "1ca9046d-7b6a-476d-c3da-6fe0de15b0b4"
      },
      "source": [
        "from sklearn.tree import DecisionTreeClassifier\n",
        "dtree=DecisionTreeClassifier()\n",
        "print('Decision Tree Classifier Created')\n"
      ],
      "execution_count": null,
      "outputs": [
        {
          "output_type": "stream",
          "name": "stdout",
          "text": [
            "Decision Tree Classifier Created\n"
          ]
        }
      ]
    },
    {
      "cell_type": "code",
      "metadata": {
        "id": "-kifMCC1u3c7",
        "colab": {
          "base_uri": "https://localhost:8080/",
          "height": 287
        },
        "outputId": "58d4ae22-a4cd-4e09-97ff-738ae6a4adea"
      },
      "source": [
        "rec = netflix[['title','director','cast','listed_in','description']]\n",
        "rec.head()"
      ],
      "execution_count": null,
      "outputs": [
        {
          "output_type": "execute_result",
          "data": {
            "text/html": [
              "<div>\n",
              "<style scoped>\n",
              "    .dataframe tbody tr th:only-of-type {\n",
              "        vertical-align: middle;\n",
              "    }\n",
              "\n",
              "    .dataframe tbody tr th {\n",
              "        vertical-align: top;\n",
              "    }\n",
              "\n",
              "    .dataframe thead th {\n",
              "        text-align: right;\n",
              "    }\n",
              "</style>\n",
              "<table border=\"1\" class=\"dataframe\">\n",
              "  <thead>\n",
              "    <tr style=\"text-align: right;\">\n",
              "      <th></th>\n",
              "      <th>title</th>\n",
              "      <th>director</th>\n",
              "      <th>cast</th>\n",
              "      <th>listed_in</th>\n",
              "      <th>description</th>\n",
              "    </tr>\n",
              "  </thead>\n",
              "  <tbody>\n",
              "    <tr>\n",
              "      <th>0</th>\n",
              "      <td>Dick Johnson Is Dead</td>\n",
              "      <td>Kirsten Johnson</td>\n",
              "      <td>NaN</td>\n",
              "      <td>Documentaries</td>\n",
              "      <td>As her father nears the end of his life, filmm...</td>\n",
              "    </tr>\n",
              "    <tr>\n",
              "      <th>1</th>\n",
              "      <td>Blood &amp; Water</td>\n",
              "      <td>NaN</td>\n",
              "      <td>Ama Qamata, Khosi Ngema, Gail Mabalane, Thaban...</td>\n",
              "      <td>International TV Shows, TV Dramas, TV Mysteries</td>\n",
              "      <td>After crossing paths at a party, a Cape Town t...</td>\n",
              "    </tr>\n",
              "    <tr>\n",
              "      <th>2</th>\n",
              "      <td>Ganglands</td>\n",
              "      <td>Julien Leclercq</td>\n",
              "      <td>Sami Bouajila, Tracy Gotoas, Samuel Jouy, Nabi...</td>\n",
              "      <td>Crime TV Shows, International TV Shows, TV Act...</td>\n",
              "      <td>To protect his family from a powerful drug lor...</td>\n",
              "    </tr>\n",
              "    <tr>\n",
              "      <th>3</th>\n",
              "      <td>Jailbirds New Orleans</td>\n",
              "      <td>NaN</td>\n",
              "      <td>NaN</td>\n",
              "      <td>Docuseries, Reality TV</td>\n",
              "      <td>Feuds, flirtations and toilet talk go down amo...</td>\n",
              "    </tr>\n",
              "    <tr>\n",
              "      <th>4</th>\n",
              "      <td>Kota Factory</td>\n",
              "      <td>NaN</td>\n",
              "      <td>Mayur More, Jitendra Kumar, Ranjan Raj, Alam K...</td>\n",
              "      <td>International TV Shows, Romantic TV Shows, TV ...</td>\n",
              "      <td>In a city of coaching centers known to train I...</td>\n",
              "    </tr>\n",
              "  </tbody>\n",
              "</table>\n",
              "</div>"
            ],
            "text/plain": [
              "                   title  ...                                        description\n",
              "0   Dick Johnson Is Dead  ...  As her father nears the end of his life, filmm...\n",
              "1          Blood & Water  ...  After crossing paths at a party, a Cape Town t...\n",
              "2              Ganglands  ...  To protect his family from a powerful drug lor...\n",
              "3  Jailbirds New Orleans  ...  Feuds, flirtations and toilet talk go down amo...\n",
              "4           Kota Factory  ...  In a city of coaching centers known to train I...\n",
              "\n",
              "[5 rows x 5 columns]"
            ]
          },
          "metadata": {},
          "execution_count": 41
        }
      ]
    },
    {
      "cell_type": "code",
      "metadata": {
        "id": "okjRUh-Su3Wn",
        "colab": {
          "base_uri": "https://localhost:8080/"
        },
        "outputId": "260dec06-0a9b-4a15-bc5b-e78fe662ed45"
      },
      "source": [
        "rec.isnull().sum()"
      ],
      "execution_count": null,
      "outputs": [
        {
          "output_type": "execute_result",
          "data": {
            "text/plain": [
              "title             0\n",
              "director       2518\n",
              "cast            747\n",
              "listed_in         1\n",
              "description       1\n",
              "dtype: int64"
            ]
          },
          "metadata": {},
          "execution_count": 42
        }
      ]
    },
    {
      "cell_type": "code",
      "metadata": {
        "id": "1MF0N1aEu3T0",
        "colab": {
          "base_uri": "https://localhost:8080/"
        },
        "outputId": "eff14972-8f29-4276-c16a-94accac311c2"
      },
      "source": [
        "rec['director'].replace(np.nan,'unknown',inplace=True)\n",
        "rec['cast'].replace(np.nan,'unknown',inplace=True)"
      ],
      "execution_count": null,
      "outputs": [
        {
          "output_type": "stream",
          "name": "stderr",
          "text": [
            "/usr/local/lib/python3.7/dist-packages/pandas/core/series.py:4582: SettingWithCopyWarning: \n",
            "A value is trying to be set on a copy of a slice from a DataFrame\n",
            "\n",
            "See the caveats in the documentation: https://pandas.pydata.org/pandas-docs/stable/user_guide/indexing.html#returning-a-view-versus-a-copy\n",
            "  method=method,\n"
          ]
        }
      ]
    },
    {
      "cell_type": "code",
      "metadata": {
        "id": "KlMuQSP2u3Rx",
        "colab": {
          "base_uri": "https://localhost:8080/"
        },
        "outputId": "2dbf1035-9182-468e-e6e1-6df24ea11236"
      },
      "source": [
        "rec['cast'] = rec['cast'].str.replace(', ',' ')"
      ],
      "execution_count": null,
      "outputs": [
        {
          "output_type": "stream",
          "name": "stderr",
          "text": [
            "/usr/local/lib/python3.7/dist-packages/ipykernel_launcher.py:1: SettingWithCopyWarning: \n",
            "A value is trying to be set on a copy of a slice from a DataFrame.\n",
            "Try using .loc[row_indexer,col_indexer] = value instead\n",
            "\n",
            "See the caveats in the documentation: https://pandas.pydata.org/pandas-docs/stable/user_guide/indexing.html#returning-a-view-versus-a-copy\n",
            "  \"\"\"Entry point for launching an IPython kernel.\n"
          ]
        }
      ]
    },
    {
      "cell_type": "code",
      "metadata": {
        "id": "kLXmk6oEu3OY",
        "colab": {
          "base_uri": "https://localhost:8080/"
        },
        "outputId": "3c20a9f9-ae48-4671-cdd0-6d2b2a7da32d"
      },
      "source": [
        "rec['listed_in'] = rec['listed_in'].str.replace(', ',' ')"
      ],
      "execution_count": null,
      "outputs": [
        {
          "output_type": "stream",
          "name": "stderr",
          "text": [
            "/usr/local/lib/python3.7/dist-packages/ipykernel_launcher.py:1: SettingWithCopyWarning: \n",
            "A value is trying to be set on a copy of a slice from a DataFrame.\n",
            "Try using .loc[row_indexer,col_indexer] = value instead\n",
            "\n",
            "See the caveats in the documentation: https://pandas.pydata.org/pandas-docs/stable/user_guide/indexing.html#returning-a-view-versus-a-copy\n",
            "  \"\"\"Entry point for launching an IPython kernel.\n"
          ]
        }
      ]
    },
    {
      "cell_type": "code",
      "metadata": {
        "id": "1SVGJKWOu3JG",
        "colab": {
          "base_uri": "https://localhost:8080/"
        },
        "outputId": "13bba727-bf5c-46a9-f17a-00d7c09e2173"
      },
      "source": [
        "rec['combined'] = rec['title'] + ' ' + rec['director'] + ' ' + rec['cast'] + ' ' + rec['listed_in'] + ' ' + rec['description']"
      ],
      "execution_count": null,
      "outputs": [
        {
          "output_type": "stream",
          "name": "stderr",
          "text": [
            "/usr/local/lib/python3.7/dist-packages/ipykernel_launcher.py:1: SettingWithCopyWarning: \n",
            "A value is trying to be set on a copy of a slice from a DataFrame.\n",
            "Try using .loc[row_indexer,col_indexer] = value instead\n",
            "\n",
            "See the caveats in the documentation: https://pandas.pydata.org/pandas-docs/stable/user_guide/indexing.html#returning-a-view-versus-a-copy\n",
            "  \"\"\"Entry point for launching an IPython kernel.\n"
          ]
        }
      ]
    },
    {
      "cell_type": "code",
      "metadata": {
        "id": "iS2Z4IiBu27i",
        "colab": {
          "base_uri": "https://localhost:8080/"
        },
        "outputId": "2fb3d4ae-8520-4b02-811e-22c710883128"
      },
      "source": [
        "rec.drop(['cast','director','listed_in','description'],axis=1,inplace=True, errors='ignore')"
      ],
      "execution_count": null,
      "outputs": [
        {
          "output_type": "stream",
          "name": "stderr",
          "text": [
            "/usr/local/lib/python3.7/dist-packages/pandas/core/frame.py:4174: SettingWithCopyWarning: \n",
            "A value is trying to be set on a copy of a slice from a DataFrame\n",
            "\n",
            "See the caveats in the documentation: https://pandas.pydata.org/pandas-docs/stable/user_guide/indexing.html#returning-a-view-versus-a-copy\n",
            "  errors=errors,\n"
          ]
        }
      ]
    },
    {
      "cell_type": "code",
      "metadata": {
        "id": "kTxSH7TZwNqT",
        "colab": {
          "base_uri": "https://localhost:8080/",
          "height": 203
        },
        "outputId": "9ffc254a-50da-4064-ece9-a89d23909301"
      },
      "source": [
        "rec.head()"
      ],
      "execution_count": null,
      "outputs": [
        {
          "output_type": "execute_result",
          "data": {
            "text/html": [
              "<div>\n",
              "<style scoped>\n",
              "    .dataframe tbody tr th:only-of-type {\n",
              "        vertical-align: middle;\n",
              "    }\n",
              "\n",
              "    .dataframe tbody tr th {\n",
              "        vertical-align: top;\n",
              "    }\n",
              "\n",
              "    .dataframe thead th {\n",
              "        text-align: right;\n",
              "    }\n",
              "</style>\n",
              "<table border=\"1\" class=\"dataframe\">\n",
              "  <thead>\n",
              "    <tr style=\"text-align: right;\">\n",
              "      <th></th>\n",
              "      <th>title</th>\n",
              "      <th>combined</th>\n",
              "    </tr>\n",
              "  </thead>\n",
              "  <tbody>\n",
              "    <tr>\n",
              "      <th>0</th>\n",
              "      <td>Dick Johnson Is Dead</td>\n",
              "      <td>Dick Johnson Is Dead Kirsten Johnson unknown D...</td>\n",
              "    </tr>\n",
              "    <tr>\n",
              "      <th>1</th>\n",
              "      <td>Blood &amp; Water</td>\n",
              "      <td>Blood &amp; Water unknown Ama Qamata Khosi Ngema G...</td>\n",
              "    </tr>\n",
              "    <tr>\n",
              "      <th>2</th>\n",
              "      <td>Ganglands</td>\n",
              "      <td>Ganglands Julien Leclercq Sami Bouajila Tracy ...</td>\n",
              "    </tr>\n",
              "    <tr>\n",
              "      <th>3</th>\n",
              "      <td>Jailbirds New Orleans</td>\n",
              "      <td>Jailbirds New Orleans unknown unknown Docuseri...</td>\n",
              "    </tr>\n",
              "    <tr>\n",
              "      <th>4</th>\n",
              "      <td>Kota Factory</td>\n",
              "      <td>Kota Factory unknown Mayur More Jitendra Kumar...</td>\n",
              "    </tr>\n",
              "  </tbody>\n",
              "</table>\n",
              "</div>"
            ],
            "text/plain": [
              "                   title                                           combined\n",
              "0   Dick Johnson Is Dead  Dick Johnson Is Dead Kirsten Johnson unknown D...\n",
              "1          Blood & Water  Blood & Water unknown Ama Qamata Khosi Ngema G...\n",
              "2              Ganglands  Ganglands Julien Leclercq Sami Bouajila Tracy ...\n",
              "3  Jailbirds New Orleans  Jailbirds New Orleans unknown unknown Docuseri...\n",
              "4           Kota Factory  Kota Factory unknown Mayur More Jitendra Kumar..."
            ]
          },
          "metadata": {},
          "execution_count": 48
        }
      ]
    },
    {
      "cell_type": "code",
      "metadata": {
        "id": "zKf59SGUwNob",
        "colab": {
          "base_uri": "https://localhost:8080/",
          "height": 86
        },
        "outputId": "7b0d63b3-10f8-4690-b496-052dffa07214"
      },
      "source": [
        "rec['combined'][1]"
      ],
      "execution_count": null,
      "outputs": [
        {
          "output_type": "execute_result",
          "data": {
            "application/vnd.google.colaboratory.intrinsic+json": {
              "type": "string"
            },
            "text/plain": [
              "'Blood & Water unknown Ama Qamata Khosi Ngema Gail Mabalane Thabang Molaba Dillon Windvogel Natasha Thahane Arno Greeff Xolile Tshabalala Getmore Sithole Cindy Mahlangu Ryle De Morny Greteli Fincham Sello Maake Ka-Ncube Odwa Gwanya Mekaila Mathys Sandi Schultz Duane Williams Shamilla Miller Patrick Mofokeng International TV Shows TV Dramas TV Mysteries After crossing paths at a party, a Cape Town teen sets out to prove whether a private-school swimming star is her sister who was abducted at birth.'"
            ]
          },
          "metadata": {},
          "execution_count": 49
        }
      ]
    },
    {
      "cell_type": "code",
      "metadata": {
        "id": "rg7zkW3WspuM",
        "colab": {
          "base_uri": "https://localhost:8080/",
          "height": 370
        },
        "outputId": "23c9550e-c5e6-40da-9f40-56674ce912bd"
      },
      "source": [
        "from sklearn.feature_extraction.text import TfidfVectorizer\n",
        "tfidf = TfidfVectorizer(stop_words='english')\n",
        "tfidf_matrix = tfidf.fit_transform(rec['combined'].str.lower())\n",
        "\n",
        "tfidf_matrix.shape"
      ],
      "execution_count": null,
      "outputs": [
        {
          "output_type": "error",
          "ename": "AttributeError",
          "evalue": "ignored",
          "traceback": [
            "\u001b[0;31m---------------------------------------------------------------------------\u001b[0m",
            "\u001b[0;31mAttributeError\u001b[0m                            Traceback (most recent call last)",
            "\u001b[0;32m<ipython-input-50-3a5f27a4c02c>\u001b[0m in \u001b[0;36m<module>\u001b[0;34m()\u001b[0m\n\u001b[1;32m      1\u001b[0m \u001b[0;32mfrom\u001b[0m \u001b[0msklearn\u001b[0m\u001b[0;34m.\u001b[0m\u001b[0mfeature_extraction\u001b[0m\u001b[0;34m.\u001b[0m\u001b[0mtext\u001b[0m \u001b[0;32mimport\u001b[0m \u001b[0mTfidfVectorizer\u001b[0m\u001b[0;34m\u001b[0m\u001b[0;34m\u001b[0m\u001b[0m\n\u001b[1;32m      2\u001b[0m \u001b[0mtfidf\u001b[0m \u001b[0;34m=\u001b[0m \u001b[0mTfidfVectorizer\u001b[0m\u001b[0;34m(\u001b[0m\u001b[0mstop_words\u001b[0m\u001b[0;34m=\u001b[0m\u001b[0;34m'english'\u001b[0m\u001b[0;34m)\u001b[0m\u001b[0;34m\u001b[0m\u001b[0;34m\u001b[0m\u001b[0m\n\u001b[0;32m----> 3\u001b[0;31m \u001b[0mtfidf_matrix\u001b[0m \u001b[0;34m=\u001b[0m \u001b[0mtfidf\u001b[0m\u001b[0;34m.\u001b[0m\u001b[0mfit_transform\u001b[0m\u001b[0;34m(\u001b[0m\u001b[0mrec\u001b[0m\u001b[0;34m[\u001b[0m\u001b[0;34m'combined'\u001b[0m\u001b[0;34m]\u001b[0m\u001b[0;34m.\u001b[0m\u001b[0mstr\u001b[0m\u001b[0;34m.\u001b[0m\u001b[0mlower\u001b[0m\u001b[0;34m(\u001b[0m\u001b[0;34m)\u001b[0m\u001b[0;34m)\u001b[0m\u001b[0;34m\u001b[0m\u001b[0;34m\u001b[0m\u001b[0m\n\u001b[0m\u001b[1;32m      4\u001b[0m \u001b[0;34m\u001b[0m\u001b[0m\n\u001b[1;32m      5\u001b[0m \u001b[0mtfidf_matrix\u001b[0m\u001b[0;34m.\u001b[0m\u001b[0mshape\u001b[0m\u001b[0;34m\u001b[0m\u001b[0;34m\u001b[0m\u001b[0m\n",
            "\u001b[0;32m/usr/local/lib/python3.7/dist-packages/sklearn/feature_extraction/text.py\u001b[0m in \u001b[0;36mfit_transform\u001b[0;34m(self, raw_documents, y)\u001b[0m\n\u001b[1;32m   1857\u001b[0m         \"\"\"\n\u001b[1;32m   1858\u001b[0m         \u001b[0mself\u001b[0m\u001b[0;34m.\u001b[0m\u001b[0m_check_params\u001b[0m\u001b[0;34m(\u001b[0m\u001b[0;34m)\u001b[0m\u001b[0;34m\u001b[0m\u001b[0;34m\u001b[0m\u001b[0m\n\u001b[0;32m-> 1859\u001b[0;31m         \u001b[0mX\u001b[0m \u001b[0;34m=\u001b[0m \u001b[0msuper\u001b[0m\u001b[0;34m(\u001b[0m\u001b[0;34m)\u001b[0m\u001b[0;34m.\u001b[0m\u001b[0mfit_transform\u001b[0m\u001b[0;34m(\u001b[0m\u001b[0mraw_documents\u001b[0m\u001b[0;34m)\u001b[0m\u001b[0;34m\u001b[0m\u001b[0;34m\u001b[0m\u001b[0m\n\u001b[0m\u001b[1;32m   1860\u001b[0m         \u001b[0mself\u001b[0m\u001b[0;34m.\u001b[0m\u001b[0m_tfidf\u001b[0m\u001b[0;34m.\u001b[0m\u001b[0mfit\u001b[0m\u001b[0;34m(\u001b[0m\u001b[0mX\u001b[0m\u001b[0;34m)\u001b[0m\u001b[0;34m\u001b[0m\u001b[0;34m\u001b[0m\u001b[0m\n\u001b[1;32m   1861\u001b[0m         \u001b[0;31m# X is already a transformed view of raw_documents so\u001b[0m\u001b[0;34m\u001b[0m\u001b[0;34m\u001b[0m\u001b[0;34m\u001b[0m\u001b[0m\n",
            "\u001b[0;32m/usr/local/lib/python3.7/dist-packages/sklearn/feature_extraction/text.py\u001b[0m in \u001b[0;36mfit_transform\u001b[0;34m(self, raw_documents, y)\u001b[0m\n\u001b[1;32m   1218\u001b[0m \u001b[0;34m\u001b[0m\u001b[0m\n\u001b[1;32m   1219\u001b[0m         vocabulary, X = self._count_vocab(raw_documents,\n\u001b[0;32m-> 1220\u001b[0;31m                                           self.fixed_vocabulary_)\n\u001b[0m\u001b[1;32m   1221\u001b[0m \u001b[0;34m\u001b[0m\u001b[0m\n\u001b[1;32m   1222\u001b[0m         \u001b[0;32mif\u001b[0m \u001b[0mself\u001b[0m\u001b[0;34m.\u001b[0m\u001b[0mbinary\u001b[0m\u001b[0;34m:\u001b[0m\u001b[0;34m\u001b[0m\u001b[0;34m\u001b[0m\u001b[0m\n",
            "\u001b[0;32m/usr/local/lib/python3.7/dist-packages/sklearn/feature_extraction/text.py\u001b[0m in \u001b[0;36m_count_vocab\u001b[0;34m(self, raw_documents, fixed_vocab)\u001b[0m\n\u001b[1;32m   1129\u001b[0m         \u001b[0;32mfor\u001b[0m \u001b[0mdoc\u001b[0m \u001b[0;32min\u001b[0m \u001b[0mraw_documents\u001b[0m\u001b[0;34m:\u001b[0m\u001b[0;34m\u001b[0m\u001b[0;34m\u001b[0m\u001b[0m\n\u001b[1;32m   1130\u001b[0m             \u001b[0mfeature_counter\u001b[0m \u001b[0;34m=\u001b[0m \u001b[0;34m{\u001b[0m\u001b[0;34m}\u001b[0m\u001b[0;34m\u001b[0m\u001b[0;34m\u001b[0m\u001b[0m\n\u001b[0;32m-> 1131\u001b[0;31m             \u001b[0;32mfor\u001b[0m \u001b[0mfeature\u001b[0m \u001b[0;32min\u001b[0m \u001b[0manalyze\u001b[0m\u001b[0;34m(\u001b[0m\u001b[0mdoc\u001b[0m\u001b[0;34m)\u001b[0m\u001b[0;34m:\u001b[0m\u001b[0;34m\u001b[0m\u001b[0;34m\u001b[0m\u001b[0m\n\u001b[0m\u001b[1;32m   1132\u001b[0m                 \u001b[0;32mtry\u001b[0m\u001b[0;34m:\u001b[0m\u001b[0;34m\u001b[0m\u001b[0;34m\u001b[0m\u001b[0m\n\u001b[1;32m   1133\u001b[0m                     \u001b[0mfeature_idx\u001b[0m \u001b[0;34m=\u001b[0m \u001b[0mvocabulary\u001b[0m\u001b[0;34m[\u001b[0m\u001b[0mfeature\u001b[0m\u001b[0;34m]\u001b[0m\u001b[0;34m\u001b[0m\u001b[0;34m\u001b[0m\u001b[0m\n",
            "\u001b[0;32m/usr/local/lib/python3.7/dist-packages/sklearn/feature_extraction/text.py\u001b[0m in \u001b[0;36m_analyze\u001b[0;34m(doc, analyzer, tokenizer, ngrams, preprocessor, decoder, stop_words)\u001b[0m\n\u001b[1;32m    101\u001b[0m     \u001b[0;32melse\u001b[0m\u001b[0;34m:\u001b[0m\u001b[0;34m\u001b[0m\u001b[0;34m\u001b[0m\u001b[0m\n\u001b[1;32m    102\u001b[0m         \u001b[0;32mif\u001b[0m \u001b[0mpreprocessor\u001b[0m \u001b[0;32mis\u001b[0m \u001b[0;32mnot\u001b[0m \u001b[0;32mNone\u001b[0m\u001b[0;34m:\u001b[0m\u001b[0;34m\u001b[0m\u001b[0;34m\u001b[0m\u001b[0m\n\u001b[0;32m--> 103\u001b[0;31m             \u001b[0mdoc\u001b[0m \u001b[0;34m=\u001b[0m \u001b[0mpreprocessor\u001b[0m\u001b[0;34m(\u001b[0m\u001b[0mdoc\u001b[0m\u001b[0;34m)\u001b[0m\u001b[0;34m\u001b[0m\u001b[0;34m\u001b[0m\u001b[0m\n\u001b[0m\u001b[1;32m    104\u001b[0m         \u001b[0;32mif\u001b[0m \u001b[0mtokenizer\u001b[0m \u001b[0;32mis\u001b[0m \u001b[0;32mnot\u001b[0m \u001b[0;32mNone\u001b[0m\u001b[0;34m:\u001b[0m\u001b[0;34m\u001b[0m\u001b[0;34m\u001b[0m\u001b[0m\n\u001b[1;32m    105\u001b[0m             \u001b[0mdoc\u001b[0m \u001b[0;34m=\u001b[0m \u001b[0mtokenizer\u001b[0m\u001b[0;34m(\u001b[0m\u001b[0mdoc\u001b[0m\u001b[0;34m)\u001b[0m\u001b[0;34m\u001b[0m\u001b[0;34m\u001b[0m\u001b[0m\n",
            "\u001b[0;32m/usr/local/lib/python3.7/dist-packages/sklearn/feature_extraction/text.py\u001b[0m in \u001b[0;36m_preprocess\u001b[0;34m(doc, accent_function, lower)\u001b[0m\n\u001b[1;32m     66\u001b[0m     \"\"\"\n\u001b[1;32m     67\u001b[0m     \u001b[0;32mif\u001b[0m \u001b[0mlower\u001b[0m\u001b[0;34m:\u001b[0m\u001b[0;34m\u001b[0m\u001b[0;34m\u001b[0m\u001b[0m\n\u001b[0;32m---> 68\u001b[0;31m         \u001b[0mdoc\u001b[0m \u001b[0;34m=\u001b[0m \u001b[0mdoc\u001b[0m\u001b[0;34m.\u001b[0m\u001b[0mlower\u001b[0m\u001b[0;34m(\u001b[0m\u001b[0;34m)\u001b[0m\u001b[0;34m\u001b[0m\u001b[0;34m\u001b[0m\u001b[0m\n\u001b[0m\u001b[1;32m     69\u001b[0m     \u001b[0;32mif\u001b[0m \u001b[0maccent_function\u001b[0m \u001b[0;32mis\u001b[0m \u001b[0;32mnot\u001b[0m \u001b[0;32mNone\u001b[0m\u001b[0;34m:\u001b[0m\u001b[0;34m\u001b[0m\u001b[0;34m\u001b[0m\u001b[0m\n\u001b[1;32m     70\u001b[0m         \u001b[0mdoc\u001b[0m \u001b[0;34m=\u001b[0m \u001b[0maccent_function\u001b[0m\u001b[0;34m(\u001b[0m\u001b[0mdoc\u001b[0m\u001b[0;34m)\u001b[0m\u001b[0;34m\u001b[0m\u001b[0;34m\u001b[0m\u001b[0m\n",
            "\u001b[0;31mAttributeError\u001b[0m: 'float' object has no attribute 'lower'"
          ]
        }
      ]
    },
    {
      "cell_type": "code",
      "metadata": {
        "id": "Qyw-w8A0sXM4"
      },
      "source": [
        "from sklearn.metrics.pairwise import linear_kernel\n",
        "cosine_sim = linear_kernel(tfidf_matrix, tfidf_matrix)\n",
        "print(rec.index)"
      ],
      "execution_count": null,
      "outputs": []
    },
    {
      "cell_type": "code",
      "metadata": {
        "id": "qL-U7JRJXuw7"
      },
      "source": [
        "indices = pd.Series(rec.index, index=rec['title']).drop_duplicates()\n",
        "type(indices)"
      ],
      "execution_count": null,
      "outputs": []
    },
    {
      "cell_type": "code",
      "metadata": {
        "id": "eXWEsXjUnSSh"
      },
      "source": [
        "def get_recommendations(title, cosine_sim=cosine_sim):\n",
        "    try:\n",
        "        idx = indices[title]\n",
        "    except:\n",
        "        return None\n",
        "    sim_scores = list(enumerate(cosine_sim[idx]))\n",
        "    sim_scores = sorted(sim_scores, key=lambda x: x[1], reverse=True)\n",
        "    sim_scores = sim_scores[1:11]\n",
        "    match = [i[0] for i in sim_scores]\n",
        "    score = [i[1] for i in sim_scores]\n",
        "    dictionary = dict(zip(match, score))\n",
        "    return dictionary"
      ],
      "execution_count": null,
      "outputs": []
    },
    {
      "cell_type": "code",
      "metadata": {
        "id": "pV2N29kGxKlW"
      },
      "source": [
        "def recommend(title):\n",
        "    result = get_recommendations(title)\n",
        "    #print(result)\n",
        "    if result is None:\n",
        "        print(f'{title} not found in database')\n",
        "    else:\n",
        "        print(f'Movie related to {title} are: ')\n",
        "        for i in result:\n",
        "            print(f\"{rec['title'].iloc[i]} with score {result[i]*100:.2f} %\")"
      ],
      "execution_count": null,
      "outputs": []
    },
    {
      "cell_type": "code",
      "metadata": {
        "id": "h83ui-rexKbU"
      },
      "source": [
        "recommend('Blood & Water')"
      ],
      "execution_count": null,
      "outputs": []
    },
    {
      "cell_type": "markdown",
      "metadata": {
        "id": "hIG_4hCzX6Ky"
      },
      "source": [
        "the above recommendations are usefull for the viewer to watch the content...."
      ]
    }
  ]
}